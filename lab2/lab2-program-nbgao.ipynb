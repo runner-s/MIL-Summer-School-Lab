{
 "cells": [
  {
   "cell_type": "markdown",
   "metadata": {},
   "source": [
    "# 实验2程序 (Lab2 Program)\n",
    "\n",
    "Author: 高鹏昺\n",
    "\n",
    "Email: nbgao@126.com"
   ]
  },
  {
   "cell_type": "code",
   "execution_count": 250,
   "metadata": {},
   "outputs": [],
   "source": [
    "import numpy as np\n",
    "import sklearn\n",
    "import scipy.io as sio\n",
    "from scipy import ndimage\n",
    "import matplotlib.pyplot as plt\n",
    "from skimage import feature as feature\n",
    "import warnings\n",
    "warnings.filterwarnings('ignore')\n",
    "\n",
    "%matplotlib inline"
   ]
  },
  {
   "cell_type": "markdown",
   "metadata": {},
   "source": [
    "## 1. Load Data"
   ]
  },
  {
   "cell_type": "code",
   "execution_count": 2,
   "metadata": {
    "pycharm": {
     "name": "#%%\n"
    }
   },
   "outputs": [
    {
     "data": {
      "text/plain": [
       "{'__header__': b'MATLAB 5.0 MAT-file Platform: posix, Created on: Sun Mar 30 03:19:02 2014',\n",
       " '__version__': '1.0',\n",
       " '__globals__': [],\n",
       " 'mldata_descr_ordering': array([[array(['label'], dtype='<U5'), array(['data'], dtype='<U4')]],\n",
       "       dtype=object),\n",
       " 'data': array([[0, 0, 0, ..., 0, 0, 0],\n",
       "        [0, 0, 0, ..., 0, 0, 0],\n",
       "        [0, 0, 0, ..., 0, 0, 0],\n",
       "        ...,\n",
       "        [0, 0, 0, ..., 0, 0, 0],\n",
       "        [0, 0, 0, ..., 0, 0, 0],\n",
       "        [0, 0, 0, ..., 0, 0, 0]], dtype=uint8),\n",
       " 'label': array([[0., 0., 0., ..., 9., 9., 9.]])}"
      ]
     },
     "execution_count": 2,
     "metadata": {},
     "output_type": "execute_result"
    }
   ],
   "source": [
    "# mnist = fetch_mldata('mnist-original', data_home = './data/') \n",
    "mnist = sio.loadmat('./data/mnist-original.mat')\n",
    "mnist"
   ]
  },
  {
   "cell_type": "code",
   "execution_count": 25,
   "metadata": {
    "pycharm": {
     "name": "#%%\n"
    },
    "scrolled": true
   },
   "outputs": [
    {
     "name": "stdout",
     "output_type": "stream",
     "text": [
      "data shape: (70000, 784)\n",
      "label shape: (70000, 1)\n"
     ]
    }
   ],
   "source": [
    "data, label = mnist['data'].T, mnist['label'].T\n",
    "\n",
    "print('data shape:', data.shape)\n",
    "print('label shape:', label.shape)"
   ]
  },
  {
   "cell_type": "code",
   "execution_count": 38,
   "metadata": {},
   "outputs": [],
   "source": [
    "img = np.zeros([len(data), 28, 28])\n",
    "for i in range(0,len(data)):\n",
    "    img[i] = data[i].reshape(28, 28)"
   ]
  },
  {
   "cell_type": "code",
   "execution_count": 42,
   "metadata": {},
   "outputs": [
    {
     "data": {
      "text/plain": [
       "(-0.5, 27.5, 27.5, -0.5)"
      ]
     },
     "execution_count": 42,
     "metadata": {},
     "output_type": "execute_result"
    },
    {
     "data": {
      "image/png": "[encoded data removed]",
      "text/plain": [
       "<Figure size 432x288 with 1 Axes>"
      ]
     },
     "metadata": {
      "needs_background": "light"
     },
     "output_type": "display_data"
    }
   ],
   "source": [
    "plt.imshow(img[50000], cmap='gray')\n",
    "plt.axis()"
   ]
  },
  {
   "cell_type": "markdown",
   "metadata": {},
   "source": [
    "## 2. Data Preprocess"
   ]
  },
  {
   "cell_type": "markdown",
   "metadata": {},
   "source": [
    "训练集/测试集划分比例为6:1,即训练集60000,测试集10000"
   ]
  },
  {
   "cell_type": "code",
   "execution_count": 215,
   "metadata": {},
   "outputs": [
    {
     "name": "stdout",
     "output_type": "stream",
     "text": [
      "data_train.shape: (60000, 784)\n",
      "data_test.shape: (10000, 784)\n"
     ]
    }
   ],
   "source": [
    "from sklearn.model_selection import train_test_split\n",
    "from sklearn.preprocessing import StandardScaler\n",
    "\n",
    "data_train, data_test, label_train, label_test = train_test_split(data, label, test_size=1/7, random_state=33)\n",
    "print('data_train.shape:', data_train.shape)\n",
    "print('data_test.shape:', data_test.shape)"
   ]
  },
  {
   "cell_type": "code",
   "execution_count": 216,
   "metadata": {},
   "outputs": [],
   "source": [
    "standardScaler = StandardScaler()\n",
    "data_train_ss = standardScaler.fit_transform(data_train)\n",
    "data_test_ss = standardScaler.transform(data_test)"
   ]
  },
  {
   "cell_type": "markdown",
   "metadata": {},
   "source": [
    "### Gray Level Histogram Feature"
   ]
  },
  {
   "cell_type": "code",
   "execution_count": 217,
   "metadata": {},
   "outputs": [
    {
     "data": {
      "text/plain": [
       "(70000, 256)"
      ]
     },
     "execution_count": 217,
     "metadata": {},
     "output_type": "execute_result"
    }
   ],
   "source": [
    "# 特征长度为256\n",
    "feature_256 = np.zeros([len(data), 256])\n",
    "feature_256.shape"
   ]
  },
  {
   "cell_type": "code",
   "execution_count": 218,
   "metadata": {
    "scrolled": false
   },
   "outputs": [],
   "source": [
    "for i in range(0,len(data)):\n",
    "    for j in range(0, 256):\n",
    "        #print(int((data_train[i]==j).sum()))\n",
    "        feature_256[i][j] = int((data[i]==j).sum())"
   ]
  },
  {
   "cell_type": "markdown",
   "metadata": {},
   "source": [
    "灰度直方图统计量(256级)"
   ]
  },
  {
   "cell_type": "code",
   "execution_count": 255,
   "metadata": {},
   "outputs": [
    {
     "data": {
      "image/png": "[encoded data removed]",
      "text/plain": [
       "<Figure size 864x360 with 1 Axes>"
      ]
     },
     "metadata": {
      "needs_background": "light"
     },
     "output_type": "display_data"
    }
   ],
   "source": [
    "import matplotlib.pyplot as plt\n",
    "plt.figure(figsize=(12,5))\n",
    "plt.hist(data[10000], bins=256);"
   ]
  },
  {
   "cell_type": "code",
   "execution_count": 219,
   "metadata": {},
   "outputs": [
    {
     "name": "stdout",
     "output_type": "stream",
     "text": [
      "feature_256_train.shape: (60000, 256)\n",
      "feature_256_test.shape: (10000, 256)\n"
     ]
    }
   ],
   "source": [
    "feature_256_train, feature_256_test, label_train, label_test = train_test_split(feature_256, label, test_size=1/7, random_state=33)\n",
    "print('feature_256_train.shape:', feature_256_train.shape)\n",
    "print('feature_256_test.shape:', feature_256_test.shape)"
   ]
  },
  {
   "cell_type": "markdown",
   "metadata": {},
   "source": [
    "### LBP Feature"
   ]
  },
  {
   "cell_type": "code",
   "execution_count": 239,
   "metadata": {},
   "outputs": [],
   "source": [
    "radius = 1\n",
    "n_points = radius * 8\n",
    "LBP_feature = np.zeros([len(data), 784])\n",
    "for i in range(0,len(data)):\n",
    "    LBP_feature[i] = feature.local_binary_pattern(img[i], n_points, radius, 'default').flatten()\n",
    "\n",
    "LBP = np.zeros([len(data), 256])\n",
    "for i in range(0,len(data)):\n",
    "    for j in range(0, 256):\n",
    "        #print(int((data_train[i]==j).sum()))\n",
    "        LBP[i][j] = int((LBP_feature[i]==j).sum())"
   ]
  },
  {
   "cell_type": "code",
   "execution_count": 240,
   "metadata": {},
   "outputs": [
    {
     "name": "stdout",
     "output_type": "stream",
     "text": [
      "LBP_train.shape: (60000, 256)\n",
      "LBP_test.shape: (10000, 256)\n"
     ]
    }
   ],
   "source": [
    "LBP_train, LBP_test, label_train, label_test = train_test_split(LBP, label, test_size=1/7, random_state=33)\n",
    "print('LBP_train.shape:', LBP_train.shape)\n",
    "print('LBP_test.shape:', LBP_test.shape)"
   ]
  },
  {
   "cell_type": "markdown",
   "metadata": {},
   "source": [
    "### HOG Feature"
   ]
  },
  {
   "cell_type": "code",
   "execution_count": null,
   "metadata": {},
   "outputs": [],
   "source": [
    "'''\n",
    "def hog_feature(im):\n",
    "  # convert rgb to grayscale if needed\n",
    "    if im.ndim == 3:\n",
    "        image = rgb2gray(im)\n",
    "    else:\n",
    "        image = np.atleast_2d(im)\n",
    "        sx, sy = image.shape # image size\n",
    "        orientations = 9 # number of gradient bins\n",
    "        cx, cy = (2, 2) # pixels per cell\n",
    "    gx = np.zeros(image.shape)\n",
    "    gy = np.zeros(image.shape)\n",
    "    gx[:, :-1] = np.diff(image, n=1, axis=1) # compute gradient on x-direction\n",
    "    gy[:-1, :] = np.diff(image, n=1, axis=0) # compute gradient on y-direction\n",
    "    grad_mag = np.sqrt(gx ** 2 + gy ** 2) # gradient magnitude\n",
    "    grad_ori = np.arctan2(gy, (gx + 1e-15)) * (180 / np.pi) + 90 # gradient orientation\n",
    "\n",
    "    n_cellsx = int(np.floor(sx / cx))  # number of cells in x\n",
    "    n_cellsy = int(np.floor(sy / cy))  # number of cells in y\n",
    "    # compute orientations integral images\n",
    "    orientation_histogram = np.zeros((n_cellsx, n_cellsy, orientations))\n",
    "    for i in range(orientations):\n",
    "        # create new integral image for this orientation\n",
    "        # isolate orientations in this range\n",
    "        temp_ori = np.where(grad_ori < 180 / orientations * (i + 1),\n",
    "                        grad_ori, 0)\n",
    "        temp_ori = np.where(grad_ori >= 180 / orientations * i,\n",
    "                        temp_ori, 0)\n",
    "        # select magnitudes for those orientations\n",
    "        cond2 = temp_ori > 0\n",
    "        temp_mag = np.where(cond2, grad_mag, 0)\n",
    "        img_hog = ndimage.uniform_filter(temp_mag, size=(cx, cy))\n",
    "        #print(img_hog)\n",
    "        plt.imshow(img_hog, cmap='gray');\n",
    "#         orientation_histogram[:,:,i] = ndimage.uniform_filter(temp_mag, size=(cx, cy))\n",
    "#         orientation_histogram[:,:,i] = ndimage.uniform_filter(temp_mag, size=(cx, cy))[cx/2::cx, cy/2::cy].T\n",
    "    \n",
    "    return orientation_histogram.ravel()\n",
    "'''"
   ]
  },
  {
   "cell_type": "markdown",
   "metadata": {},
   "source": [
    "## 3. Model"
   ]
  },
  {
   "cell_type": "code",
   "execution_count": 149,
   "metadata": {},
   "outputs": [],
   "source": [
    "from sklearn.tree import DecisionTreeClassifier\n",
    "from sklearn.linear_model import LogisticRegression\n",
    "from sklearn.svm import SVC\n",
    "from sklearn.metrics import classification_report"
   ]
  },
  {
   "cell_type": "markdown",
   "metadata": {},
   "source": [
    "### 3.1 Decision Tree"
   ]
  },
  {
   "cell_type": "markdown",
   "metadata": {},
   "source": [
    "#### Pixel"
   ]
  },
  {
   "cell_type": "code",
   "execution_count": 220,
   "metadata": {
    "scrolled": true
   },
   "outputs": [
    {
     "data": {
      "text/plain": [
       "DecisionTreeClassifier(class_weight=None, criterion='gini', max_depth=None,\n",
       "                       max_features=None, max_leaf_nodes=None,\n",
       "                       min_impurity_decrease=0.0, min_impurity_split=None,\n",
       "                       min_samples_leaf=1, min_samples_split=2,\n",
       "                       min_weight_fraction_leaf=0.0, presort=False,\n",
       "                       random_state=None, splitter='best')"
      ]
     },
     "execution_count": 220,
     "metadata": {},
     "output_type": "execute_result"
    }
   ],
   "source": [
    "decisionTree = DecisionTreeClassifier()\n",
    "decisionTree.fit(data_train_ss, label_train)"
   ]
  },
  {
   "cell_type": "code",
   "execution_count": 221,
   "metadata": {},
   "outputs": [],
   "source": [
    "# Predict\n",
    "label_predict = decisionTree.predict(data_test_ss)"
   ]
  },
  {
   "cell_type": "code",
   "execution_count": 222,
   "metadata": {
    "scrolled": true
   },
   "outputs": [
    {
     "name": "stdout",
     "output_type": "stream",
     "text": [
      "The Accuracy of Decision Tree: 0.8748\n",
      "              precision    recall  f1-score   support\n",
      "\n",
      "         0.0       0.93      0.93      0.93       957\n",
      "         1.0       0.94      0.96      0.95      1113\n",
      "         2.0       0.86      0.88      0.87      1040\n",
      "         3.0       0.85      0.83      0.84      1012\n",
      "         4.0       0.84      0.89      0.86       949\n",
      "         5.0       0.85      0.84      0.84       940\n",
      "         6.0       0.89      0.88      0.88      1006\n",
      "         7.0       0.91      0.89      0.90      1014\n",
      "         8.0       0.83      0.81      0.82       970\n",
      "         9.0       0.85      0.83      0.84       999\n",
      "\n",
      "    accuracy                           0.87     10000\n",
      "   macro avg       0.87      0.87      0.87     10000\n",
      "weighted avg       0.87      0.87      0.87     10000\n",
      "\n"
     ]
    }
   ],
   "source": [
    "# Result Evaluation\n",
    "print('The Accuracy of Decision Tree:', decisionTree.score(data_test_ss, label_test))\n",
    "print(classification_report(label_test, label_predict))"
   ]
  },
  {
   "cell_type": "markdown",
   "metadata": {},
   "source": [
    "#### Gray_256"
   ]
  },
  {
   "cell_type": "code",
   "execution_count": 223,
   "metadata": {
    "scrolled": false
   },
   "outputs": [
    {
     "data": {
      "text/plain": [
       "DecisionTreeClassifier(class_weight=None, criterion='gini', max_depth=None,\n",
       "                       max_features=None, max_leaf_nodes=None,\n",
       "                       min_impurity_decrease=0.0, min_impurity_split=None,\n",
       "                       min_samples_leaf=1, min_samples_split=2,\n",
       "                       min_weight_fraction_leaf=0.0, presort=False,\n",
       "                       random_state=None, splitter='best')"
      ]
     },
     "execution_count": 223,
     "metadata": {},
     "output_type": "execute_result"
    }
   ],
   "source": [
    "decisionTree = DecisionTreeClassifier()\n",
    "decisionTree.fit(feature_256_train, label_train)"
   ]
  },
  {
   "cell_type": "code",
   "execution_count": 224,
   "metadata": {},
   "outputs": [],
   "source": [
    "# Predict\n",
    "label_predict = decisionTree.predict(feature_256_test)"
   ]
  },
  {
   "cell_type": "code",
   "execution_count": 225,
   "metadata": {
    "scrolled": true
   },
   "outputs": [
    {
     "name": "stdout",
     "output_type": "stream",
     "text": [
      "The Accuracy of Decision Tree: 0.2595\n",
      "              precision    recall  f1-score   support\n",
      "\n",
      "         0.0       0.28      0.31      0.30       957\n",
      "         1.0       0.89      0.88      0.89      1113\n",
      "         2.0       0.14      0.13      0.14      1040\n",
      "         3.0       0.14      0.14      0.14      1012\n",
      "         4.0       0.17      0.17      0.17       949\n",
      "         5.0       0.12      0.11      0.12       940\n",
      "         6.0       0.12      0.12      0.12      1006\n",
      "         7.0       0.27      0.28      0.27      1014\n",
      "         8.0       0.21      0.20      0.20       970\n",
      "         9.0       0.16      0.16      0.16       999\n",
      "\n",
      "    accuracy                           0.26     10000\n",
      "   macro avg       0.25      0.25      0.25     10000\n",
      "weighted avg       0.26      0.26      0.26     10000\n",
      "\n"
     ]
    }
   ],
   "source": [
    "# Result Evaluation\n",
    "print('The Accuracy of Decision Tree:', decisionTree.score(feature_256_test, label_test))\n",
    "print(classification_report(label_test, label_predict))"
   ]
  },
  {
   "cell_type": "markdown",
   "metadata": {},
   "source": [
    "#### LBP"
   ]
  },
  {
   "cell_type": "code",
   "execution_count": 241,
   "metadata": {
    "scrolled": false
   },
   "outputs": [
    {
     "data": {
      "text/plain": [
       "DecisionTreeClassifier(class_weight=None, criterion='gini', max_depth=None,\n",
       "                       max_features=None, max_leaf_nodes=None,\n",
       "                       min_impurity_decrease=0.0, min_impurity_split=None,\n",
       "                       min_samples_leaf=1, min_samples_split=2,\n",
       "                       min_weight_fraction_leaf=0.0, presort=False,\n",
       "                       random_state=None, splitter='best')"
      ]
     },
     "execution_count": 241,
     "metadata": {},
     "output_type": "execute_result"
    }
   ],
   "source": [
    "decisionTree = DecisionTreeClassifier()\n",
    "decisionTree.fit(LBP_train, label_train)"
   ]
  },
  {
   "cell_type": "code",
   "execution_count": 242,
   "metadata": {},
   "outputs": [],
   "source": [
    "# Predict\n",
    "label_predict = decisionTree.predict(LBP_test)"
   ]
  },
  {
   "cell_type": "code",
   "execution_count": 243,
   "metadata": {
    "scrolled": true
   },
   "outputs": [
    {
     "name": "stdout",
     "output_type": "stream",
     "text": [
      "The Accuracy of Decision Tree: 0.4884\n",
      "              precision    recall  f1-score   support\n",
      "\n",
      "         0.0       0.52      0.52      0.52       957\n",
      "         1.0       0.92      0.94      0.93      1113\n",
      "         2.0       0.28      0.27      0.28      1040\n",
      "         3.0       0.50      0.51      0.50      1012\n",
      "         4.0       0.47      0.49      0.48       949\n",
      "         5.0       0.44      0.42      0.43       940\n",
      "         6.0       0.30      0.31      0.31      1006\n",
      "         7.0       0.58      0.59      0.59      1014\n",
      "         8.0       0.41      0.38      0.40       970\n",
      "         9.0       0.38      0.40      0.39       999\n",
      "\n",
      "    accuracy                           0.49     10000\n",
      "   macro avg       0.48      0.48      0.48     10000\n",
      "weighted avg       0.49      0.49      0.49     10000\n",
      "\n"
     ]
    }
   ],
   "source": [
    "# Result Evaluation\n",
    "print('The Accuracy of Decision Tree:', decisionTree.score(LBP_test, label_test))\n",
    "print(classification_report(label_test, label_predict))"
   ]
  },
  {
   "cell_type": "markdown",
   "metadata": {},
   "source": [
    "### 3.2  Logistic Regression"
   ]
  },
  {
   "cell_type": "markdown",
   "metadata": {},
   "source": [
    "#### Pixel"
   ]
  },
  {
   "cell_type": "code",
   "execution_count": 227,
   "metadata": {},
   "outputs": [
    {
     "data": {
      "text/plain": [
       "LogisticRegression(C=1.0, class_weight=None, dual=False, fit_intercept=True,\n",
       "                   intercept_scaling=1, l1_ratio=None, max_iter=100,\n",
       "                   multi_class='warn', n_jobs=None, penalty='l2',\n",
       "                   random_state=None, solver='warn', tol=0.0001, verbose=0,\n",
       "                   warm_start=False)"
      ]
     },
     "execution_count": 227,
     "metadata": {},
     "output_type": "execute_result"
    }
   ],
   "source": [
    "logisticRegression = LogisticRegression()\n",
    "logisticRegression.fit(data_train_ss, label_train)"
   ]
  },
  {
   "cell_type": "code",
   "execution_count": 228,
   "metadata": {},
   "outputs": [],
   "source": [
    "# Predict\n",
    "label_predict = logisticRegression.predict(data_test_ss)"
   ]
  },
  {
   "cell_type": "code",
   "execution_count": 229,
   "metadata": {
    "scrolled": true
   },
   "outputs": [
    {
     "name": "stdout",
     "output_type": "stream",
     "text": [
      "The Accuracy of Logistic Regression: 0.9125\n",
      "              precision    recall  f1-score   support\n",
      "\n",
      "         0.0       0.94      0.97      0.96       957\n",
      "         1.0       0.94      0.98      0.96      1113\n",
      "         2.0       0.92      0.89      0.91      1040\n",
      "         3.0       0.91      0.88      0.89      1012\n",
      "         4.0       0.89      0.93      0.91       949\n",
      "         5.0       0.90      0.85      0.88       940\n",
      "         6.0       0.94      0.96      0.95      1006\n",
      "         7.0       0.92      0.92      0.92      1014\n",
      "         8.0       0.87      0.86      0.87       970\n",
      "         9.0       0.89      0.87      0.88       999\n",
      "\n",
      "    accuracy                           0.91     10000\n",
      "   macro avg       0.91      0.91      0.91     10000\n",
      "weighted avg       0.91      0.91      0.91     10000\n",
      "\n"
     ]
    }
   ],
   "source": [
    "# Result Evaluation\n",
    "print('The Accuracy of Logistic Regression:', logisticRegression.score(data_test_ss, label_test))\n",
    "print(classification_report(label_test, label_predict))"
   ]
  },
  {
   "cell_type": "markdown",
   "metadata": {},
   "source": [
    "#### Gray_256"
   ]
  },
  {
   "cell_type": "code",
   "execution_count": 230,
   "metadata": {
    "scrolled": true
   },
   "outputs": [
    {
     "data": {
      "text/plain": [
       "LogisticRegression(C=1.0, class_weight=None, dual=False, fit_intercept=True,\n",
       "                   intercept_scaling=1, l1_ratio=None, max_iter=100,\n",
       "                   multi_class='warn', n_jobs=None, penalty='l2',\n",
       "                   random_state=None, solver='warn', tol=0.0001, verbose=0,\n",
       "                   warm_start=False)"
      ]
     },
     "execution_count": 230,
     "metadata": {},
     "output_type": "execute_result"
    }
   ],
   "source": [
    "logisticRegression = LogisticRegression()\n",
    "logisticRegression.fit(feature_256_train, label_train)"
   ]
  },
  {
   "cell_type": "code",
   "execution_count": 231,
   "metadata": {},
   "outputs": [],
   "source": [
    "# Predict\n",
    "label_predict = logisticRegression.predict(feature_256_test)"
   ]
  },
  {
   "cell_type": "code",
   "execution_count": 232,
   "metadata": {
    "scrolled": true
   },
   "outputs": [
    {
     "name": "stdout",
     "output_type": "stream",
     "text": [
      "The Accuracy of Decision Tree: 0.3342\n",
      "              precision    recall  f1-score   support\n",
      "\n",
      "         0.0       0.34      0.50      0.41       957\n",
      "         1.0       0.86      0.97      0.91      1113\n",
      "         2.0       0.20      0.11      0.14      1040\n",
      "         3.0       0.22      0.17      0.19      1012\n",
      "         4.0       0.22      0.23      0.23       949\n",
      "         5.0       0.18      0.13      0.15       940\n",
      "         6.0       0.17      0.13      0.15      1006\n",
      "         7.0       0.32      0.43      0.36      1014\n",
      "         8.0       0.30      0.39      0.34       970\n",
      "         9.0       0.23      0.20      0.22       999\n",
      "\n",
      "    accuracy                           0.33     10000\n",
      "   macro avg       0.30      0.33      0.31     10000\n",
      "weighted avg       0.31      0.33      0.32     10000\n",
      "\n"
     ]
    }
   ],
   "source": [
    "# Result Evaluation\n",
    "print('The Accuracy of Decision Tree:', logisticRegression.score(feature_256_test, label_test))\n",
    "print(classification_report(label_test, label_predict))"
   ]
  },
  {
   "cell_type": "markdown",
   "metadata": {},
   "source": [
    "### LBP"
   ]
  },
  {
   "cell_type": "code",
   "execution_count": 244,
   "metadata": {
    "scrolled": true
   },
   "outputs": [
    {
     "data": {
      "text/plain": [
       "LogisticRegression(C=1.0, class_weight=None, dual=False, fit_intercept=True,\n",
       "                   intercept_scaling=1, l1_ratio=None, max_iter=100,\n",
       "                   multi_class='warn', n_jobs=None, penalty='l2',\n",
       "                   random_state=None, solver='warn', tol=0.0001, verbose=0,\n",
       "                   warm_start=False)"
      ]
     },
     "execution_count": 244,
     "metadata": {},
     "output_type": "execute_result"
    }
   ],
   "source": [
    "logisticRegression = LogisticRegression()\n",
    "logisticRegression.fit(LBP_train, label_train)"
   ]
  },
  {
   "cell_type": "code",
   "execution_count": 245,
   "metadata": {},
   "outputs": [],
   "source": [
    "# Predict\n",
    "label_predict = logisticRegression.predict(LBP_test)"
   ]
  },
  {
   "cell_type": "code",
   "execution_count": 246,
   "metadata": {
    "scrolled": true
   },
   "outputs": [
    {
     "name": "stdout",
     "output_type": "stream",
     "text": [
      "The Accuracy of Decision Tree: 0.7246\n",
      "              precision    recall  f1-score   support\n",
      "\n",
      "         0.0       0.71      0.79      0.75       957\n",
      "         1.0       0.95      0.98      0.97      1113\n",
      "         2.0       0.57      0.43      0.49      1040\n",
      "         3.0       0.72      0.77      0.74      1012\n",
      "         4.0       0.73      0.76      0.75       949\n",
      "         5.0       0.68      0.71      0.70       940\n",
      "         6.0       0.69      0.62      0.65      1006\n",
      "         7.0       0.76      0.77      0.77      1014\n",
      "         8.0       0.71      0.74      0.72       970\n",
      "         9.0       0.65      0.66      0.65       999\n",
      "\n",
      "    accuracy                           0.72     10000\n",
      "   macro avg       0.72      0.72      0.72     10000\n",
      "weighted avg       0.72      0.72      0.72     10000\n",
      "\n"
     ]
    }
   ],
   "source": [
    "# Result Evaluation\n",
    "print('The Accuracy of Decision Tree:', logisticRegression.score(LBP_test, label_test))\n",
    "print(classification_report(label_test, label_predict))"
   ]
  },
  {
   "cell_type": "markdown",
   "metadata": {},
   "source": [
    "### 3.3 SVM"
   ]
  },
  {
   "cell_type": "markdown",
   "metadata": {},
   "source": [
    "#### Pixel"
   ]
  },
  {
   "cell_type": "code",
   "execution_count": 233,
   "metadata": {},
   "outputs": [
    {
     "data": {
      "text/plain": [
       "SVC(C=1.0, cache_size=200, class_weight=None, coef0=0.0,\n",
       "    decision_function_shape='ovr', degree=3, gamma='auto_deprecated',\n",
       "    kernel='rbf', max_iter=-1, probability=False, random_state=None,\n",
       "    shrinking=True, tol=0.001, verbose=False)"
      ]
     },
     "execution_count": 233,
     "metadata": {},
     "output_type": "execute_result"
    }
   ],
   "source": [
    "svc = SVC()\n",
    "svc.fit(data_train_ss, label_train)"
   ]
  },
  {
   "cell_type": "code",
   "execution_count": 234,
   "metadata": {
    "scrolled": true
   },
   "outputs": [],
   "source": [
    "# Predict\n",
    "label_predict = svc.predict(data_test_ss)"
   ]
  },
  {
   "cell_type": "code",
   "execution_count": 235,
   "metadata": {},
   "outputs": [
    {
     "name": "stdout",
     "output_type": "stream",
     "text": [
      "The Accuracy of SVM: 0.9639\n",
      "              precision    recall  f1-score   support\n",
      "\n",
      "         0.0       0.98      0.98      0.98       957\n",
      "         1.0       0.98      0.99      0.99      1113\n",
      "         2.0       0.96      0.96      0.96      1040\n",
      "         3.0       0.97      0.95      0.96      1012\n",
      "         4.0       0.95      0.96      0.96       949\n",
      "         5.0       0.97      0.95      0.96       940\n",
      "         6.0       0.98      0.97      0.98      1006\n",
      "         7.0       0.92      0.97      0.95      1014\n",
      "         8.0       0.97      0.96      0.96       970\n",
      "         9.0       0.96      0.94      0.95       999\n",
      "\n",
      "    accuracy                           0.96     10000\n",
      "   macro avg       0.96      0.96      0.96     10000\n",
      "weighted avg       0.96      0.96      0.96     10000\n",
      "\n"
     ]
    }
   ],
   "source": [
    "# Result Evaluation\n",
    "print('The Accuracy of SVM:', svc.score(data_test_ss, label_test))\n",
    "print(classification_report(label_test, label_predict))"
   ]
  },
  {
   "cell_type": "markdown",
   "metadata": {},
   "source": [
    "#### Gray_256"
   ]
  },
  {
   "cell_type": "code",
   "execution_count": 236,
   "metadata": {
    "scrolled": false
   },
   "outputs": [
    {
     "data": {
      "text/plain": [
       "SVC(C=1.0, cache_size=200, class_weight=None, coef0=0.0,\n",
       "    decision_function_shape='ovr', degree=3, gamma='auto_deprecated',\n",
       "    kernel='rbf', max_iter=-1, probability=False, random_state=None,\n",
       "    shrinking=True, tol=0.001, verbose=False)"
      ]
     },
     "execution_count": 236,
     "metadata": {},
     "output_type": "execute_result"
    }
   ],
   "source": [
    "svc = SVC()\n",
    "svc.fit(feature_256_train, label_train)"
   ]
  },
  {
   "cell_type": "code",
   "execution_count": 237,
   "metadata": {},
   "outputs": [],
   "source": [
    "# Predict\n",
    "label_predict = svc.predict(feature_256_test)"
   ]
  },
  {
   "cell_type": "code",
   "execution_count": 238,
   "metadata": {
    "scrolled": true
   },
   "outputs": [
    {
     "name": "stdout",
     "output_type": "stream",
     "text": [
      "The Accuracy of SVM: 0.3754\n",
      "              precision    recall  f1-score   support\n",
      "\n",
      "         0.0       0.38      0.59      0.46       957\n",
      "         1.0       0.94      0.95      0.94      1113\n",
      "         2.0       0.22      0.15      0.18      1040\n",
      "         3.0       0.25      0.19      0.22      1012\n",
      "         4.0       0.29      0.30      0.30       949\n",
      "         5.0       0.20      0.11      0.14       940\n",
      "         6.0       0.23      0.11      0.15      1006\n",
      "         7.0       0.39      0.58      0.46      1014\n",
      "         8.0       0.32      0.45      0.37       970\n",
      "         9.0       0.26      0.26      0.26       999\n",
      "\n",
      "    accuracy                           0.38     10000\n",
      "   macro avg       0.35      0.37      0.35     10000\n",
      "weighted avg       0.35      0.38      0.35     10000\n",
      "\n"
     ]
    }
   ],
   "source": [
    "# Result Evaluation\n",
    "print('The Accuracy of SVM:', svc.score(feature_256_test, label_test))\n",
    "print(classification_report(label_test, label_predict))"
   ]
  },
  {
   "cell_type": "markdown",
   "metadata": {},
   "source": [
    "### LBP"
   ]
  },
  {
   "cell_type": "code",
   "execution_count": 247,
   "metadata": {
    "scrolled": false
   },
   "outputs": [
    {
     "data": {
      "text/plain": [
       "SVC(C=1.0, cache_size=200, class_weight=None, coef0=0.0,\n",
       "    decision_function_shape='ovr', degree=3, gamma='auto_deprecated',\n",
       "    kernel='rbf', max_iter=-1, probability=False, random_state=None,\n",
       "    shrinking=True, tol=0.001, verbose=False)"
      ]
     },
     "execution_count": 247,
     "metadata": {},
     "output_type": "execute_result"
    }
   ],
   "source": [
    "svc = SVC()\n",
    "svc.fit(LBP_train, label_train)"
   ]
  },
  {
   "cell_type": "code",
   "execution_count": 248,
   "metadata": {},
   "outputs": [],
   "source": [
    "# Predict\n",
    "label_predict = svc.predict(LBP_test)"
   ]
  },
  {
   "cell_type": "code",
   "execution_count": 249,
   "metadata": {
    "scrolled": false
   },
   "outputs": [
    {
     "name": "stdout",
     "output_type": "stream",
     "text": [
      "The Accuracy of SVM: 0.7615\n",
      "              precision    recall  f1-score   support\n",
      "\n",
      "         0.0       0.77      0.80      0.79       957\n",
      "         1.0       0.99      0.98      0.98      1113\n",
      "         2.0       0.57      0.53      0.55      1040\n",
      "         3.0       0.75      0.77      0.76      1012\n",
      "         4.0       0.82      0.84      0.83       949\n",
      "         5.0       0.70      0.72      0.71       940\n",
      "         6.0       0.69      0.65      0.67      1006\n",
      "         7.0       0.82      0.82      0.82      1014\n",
      "         8.0       0.73      0.76      0.75       970\n",
      "         9.0       0.75      0.73      0.74       999\n",
      "\n",
      "    accuracy                           0.76     10000\n",
      "   macro avg       0.76      0.76      0.76     10000\n",
      "weighted avg       0.76      0.76      0.76     10000\n",
      "\n"
     ]
    }
   ],
   "source": [
    "# Result Evaluation\n",
    "print('The Accuracy of SVM:', svc.score(LBP_test, label_test))\n",
    "print(classification_report(label_test, label_predict))"
   ]
  },
  {
   "cell_type": "markdown",
   "metadata": {},
   "source": [
    "## 4. Experiment Result\n",
    "\n",
    "Model|Pixel|Gray_256|LBP\n",
    ":-:|:-:|:-:|:-:\n",
    "Decision Tree|87.48|25.95|48.84\n",
    "Linear Regression|91.25|33.42|72.46\n",
    "Support Vector Machine|96.39|37.54|76.15\n"
   ]
  }
 ],
 "metadata": {
  "kernelspec": {
   "display_name": "Python 3",
   "language": "python",
   "name": "python3"
  },
  "language_info": {
   "codemirror_mode": {
    "name": "ipython",
    "version": 3
   },
   "file_extension": ".py",
   "mimetype": "text/x-python",
   "name": "python",
   "nbconvert_exporter": "python",
   "pygments_lexer": "ipython3",
   "version": "3.7.0"
  },
  "pycharm": {
   "stem_cell": {
    "cell_type": "raw",
    "metadata": {
     "collapsed": false
    },
    "source": []
   }
  }
 },
 "nbformat": 4,
 "nbformat_minor": 1
}
