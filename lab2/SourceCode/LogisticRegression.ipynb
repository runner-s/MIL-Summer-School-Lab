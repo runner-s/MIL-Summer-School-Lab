{
 "cells": [
  {
   "cell_type": "markdown",
   "metadata": {},
   "source": [
    "## [Logistic Regression] \n",
    "### Source Code Implement\n",
    "<br>\n",
    "\n",
    "#### Data: 2019.07.13\n",
    "#### Author: 高鹏昺\n",
    "#### E-mail: nbgao@126.com\n",
    "#### Reference: [机器学习实战](https://github.com/apachecn/AiLearning), [numpy-ml](https://github.com/ddbourgin/numpy-ml)"
   ]
  },
  {
   "cell_type": "markdown",
   "metadata": {},
   "source": [
    "## 1. Logistic Regression 实例"
   ]
  },
  {
   "cell_type": "markdown",
   "metadata": {},
   "source": [
    "### 数据加载"
   ]
  },
  {
   "cell_type": "code",
   "execution_count": 34,
   "metadata": {},
   "outputs": [],
   "source": [
    "import numpy as np\n",
    "\n",
    "# 数据加载\n",
    "def LoadDataSet():\n",
    "    data = []\n",
    "    label = []\n",
    "    fr = open('./testSet.txt')\n",
    "    for line in fr.readlines():\n",
    "        lineArr = line.strip().split()\n",
    "        data.append([1.0, float(lineArr[0]), float(lineArr[1])])\n",
    "        label.append(int(lineArr[2]))\n",
    "    return data, label"
   ]
  },
  {
   "cell_type": "markdown",
   "metadata": {},
   "source": [
    "### 逻辑斯蒂函数"
   ]
  },
  {
   "cell_type": "code",
   "execution_count": 35,
   "metadata": {},
   "outputs": [],
   "source": [
    "def Sigmoid(x):\n",
    "    return 1.0/(1+np.exp(-x))"
   ]
  },
  {
   "cell_type": "markdown",
   "metadata": {},
   "source": [
    "### 梯度下降法 (Gradient Descent)"
   ]
  },
  {
   "cell_type": "code",
   "execution_count": 36,
   "metadata": {},
   "outputs": [],
   "source": [
    "def GradientDescent(data, label):\n",
    "    dataMat = np.mat(data)\n",
    "    labelMat = np.mat(label)\n",
    "    m,n = np.shape(dataMat)\n",
    "    alpha = 1e-3\n",
    "    epoch_num = 1000\n",
    "    weights = np.ones((n, 1))\n",
    "    for i in range(epoch_num):\n",
    "        y = Sigmoid(dataMat * weights)\n",
    "        error = labelMat - y\n",
    "        weights = weights + alpha * dataMat.T * error\n",
    "    \n",
    "    return weights"
   ]
  },
  {
   "cell_type": "code",
   "execution_count": 37,
   "metadata": {
    "scrolled": true
   },
   "outputs": [
    {
     "data": {
      "text/plain": [
       "matrix([[-2.98698407,  3.3517906 , -2.98698407, -2.98698407, -2.98698407,\n",
       "          3.3517906 , -2.98698407,  3.3517906 , -2.98698407, -2.98698407,\n",
       "          3.3517906 , -2.98698407,  3.3517906 , -2.98698407,  3.3517906 ,\n",
       "          3.3517906 ,  3.3517906 ,  3.3517906 ,  3.3517906 ,  3.3517906 ,\n",
       "          3.3517906 ,  3.3517906 , -2.98698407,  3.3517906 ,  3.3517906 ,\n",
       "         -2.98698407, -2.98698407,  3.3517906 ,  3.3517906 , -2.98698407,\n",
       "          3.3517906 ,  3.3517906 , -2.98698407,  3.3517906 ,  3.3517906 ,\n",
       "         -2.98698407, -2.98698407, -2.98698407, -2.98698407, -2.98698407,\n",
       "          3.3517906 ,  3.3517906 , -2.98698407,  3.3517906 ,  3.3517906 ,\n",
       "         -2.98698407,  3.3517906 ,  3.3517906 , -2.98698407, -2.98698407,\n",
       "         -2.98698407, -2.98698407, -2.98698407, -2.98698407,  3.3517906 ,\n",
       "          3.3517906 , -2.98698407,  3.3517906 , -2.98698407,  3.3517906 ,\n",
       "          3.3517906 ,  3.3517906 , -2.98698407, -2.98698407, -2.98698407,\n",
       "          3.3517906 ,  3.3517906 , -2.98698407, -2.98698407, -2.98698407,\n",
       "         -2.98698407,  3.3517906 , -2.98698407,  3.3517906 , -2.98698407,\n",
       "         -2.98698407,  3.3517906 ,  3.3517906 ,  3.3517906 ,  3.3517906 ,\n",
       "         -2.98698407,  3.3517906 , -2.98698407,  3.3517906 ,  3.3517906 ,\n",
       "          3.3517906 ,  3.3517906 , -2.98698407,  3.3517906 ,  3.3517906 ,\n",
       "          3.3517906 , -2.98698407, -2.98698407,  3.3517906 ,  3.3517906 ,\n",
       "          3.3517906 , -2.98698407,  3.3517906 , -2.98698407, -2.98698407],\n",
       "        [ 1.11918144, -0.58129696,  1.11918144,  1.11918144,  1.11918144,\n",
       "         -0.58129696,  1.11918144, -0.58129696,  1.11918144,  1.11918144,\n",
       "         -0.58129696,  1.11918144, -0.58129696,  1.11918144, -0.58129696,\n",
       "         -0.58129696, -0.58129696, -0.58129696, -0.58129696, -0.58129696,\n",
       "         -0.58129696, -0.58129696,  1.11918144, -0.58129696, -0.58129696,\n",
       "          1.11918144,  1.11918144, -0.58129696, -0.58129696,  1.11918144,\n",
       "         -0.58129696, -0.58129696,  1.11918144, -0.58129696, -0.58129696,\n",
       "          1.11918144,  1.11918144,  1.11918144,  1.11918144,  1.11918144,\n",
       "         -0.58129696, -0.58129696,  1.11918144, -0.58129696, -0.58129696,\n",
       "          1.11918144, -0.58129696, -0.58129696,  1.11918144,  1.11918144,\n",
       "          1.11918144,  1.11918144,  1.11918144,  1.11918144, -0.58129696,\n",
       "         -0.58129696,  1.11918144, -0.58129696,  1.11918144, -0.58129696,\n",
       "         -0.58129696, -0.58129696,  1.11918144,  1.11918144,  1.11918144,\n",
       "         -0.58129696, -0.58129696,  1.11918144,  1.11918144,  1.11918144,\n",
       "          1.11918144, -0.58129696,  1.11918144, -0.58129696,  1.11918144,\n",
       "          1.11918144, -0.58129696, -0.58129696, -0.58129696, -0.58129696,\n",
       "          1.11918144, -0.58129696,  1.11918144, -0.58129696, -0.58129696,\n",
       "         -0.58129696, -0.58129696,  1.11918144, -0.58129696, -0.58129696,\n",
       "         -0.58129696,  1.11918144,  1.11918144, -0.58129696, -0.58129696,\n",
       "         -0.58129696,  1.11918144, -0.58129696,  1.11918144,  1.11918144],\n",
       "        [-0.6995984 ,  0.52304574, -0.6995984 , -0.6995984 , -0.6995984 ,\n",
       "          0.52304574, -0.6995984 ,  0.52304574, -0.6995984 , -0.6995984 ,\n",
       "          0.52304574, -0.6995984 ,  0.52304574, -0.6995984 ,  0.52304574,\n",
       "          0.52304574,  0.52304574,  0.52304574,  0.52304574,  0.52304574,\n",
       "          0.52304574,  0.52304574, -0.6995984 ,  0.52304574,  0.52304574,\n",
       "         -0.6995984 , -0.6995984 ,  0.52304574,  0.52304574, -0.6995984 ,\n",
       "          0.52304574,  0.52304574, -0.6995984 ,  0.52304574,  0.52304574,\n",
       "         -0.6995984 , -0.6995984 , -0.6995984 , -0.6995984 , -0.6995984 ,\n",
       "          0.52304574,  0.52304574, -0.6995984 ,  0.52304574,  0.52304574,\n",
       "         -0.6995984 ,  0.52304574,  0.52304574, -0.6995984 , -0.6995984 ,\n",
       "         -0.6995984 , -0.6995984 , -0.6995984 , -0.6995984 ,  0.52304574,\n",
       "          0.52304574, -0.6995984 ,  0.52304574, -0.6995984 ,  0.52304574,\n",
       "          0.52304574,  0.52304574, -0.6995984 , -0.6995984 , -0.6995984 ,\n",
       "          0.52304574,  0.52304574, -0.6995984 , -0.6995984 , -0.6995984 ,\n",
       "         -0.6995984 ,  0.52304574, -0.6995984 ,  0.52304574, -0.6995984 ,\n",
       "         -0.6995984 ,  0.52304574,  0.52304574,  0.52304574,  0.52304574,\n",
       "         -0.6995984 ,  0.52304574, -0.6995984 ,  0.52304574,  0.52304574,\n",
       "          0.52304574,  0.52304574, -0.6995984 ,  0.52304574,  0.52304574,\n",
       "          0.52304574, -0.6995984 , -0.6995984 ,  0.52304574,  0.52304574,\n",
       "          0.52304574, -0.6995984 ,  0.52304574, -0.6995984 , -0.6995984 ]])"
      ]
     },
     "execution_count": 37,
     "metadata": {},
     "output_type": "execute_result"
    }
   ],
   "source": [
    "data, label = LoadDataSet()\n",
    "GradientDescent(data, label)"
   ]
  },
  {
   "cell_type": "markdown",
   "metadata": {},
   "source": [
    "### 绘图函数"
   ]
  },
  {
   "cell_type": "code",
   "execution_count": 38,
   "metadata": {},
   "outputs": [],
   "source": [
    "import matplotlib.pyplot as plt\n",
    "\n",
    "# 绘制数据点和分割直线\n",
    "def PlotLine(W):\n",
    "    weights = W\n",
    "    data, label = LoadDataSet()\n",
    "    data = np.array(data)\n",
    "    n = np.shape(data)[0]\n",
    "    x1 = []; y1 = []\n",
    "    x2 = []; y2 = []\n",
    "    for i in range(n):\n",
    "        if int(label[i])==1:\n",
    "            x1.append(data[i,1])\n",
    "            y1.append(data[i,2])\n",
    "        else:\n",
    "            x2.append(data[i,1])\n",
    "            y2.append(data[i,2])\n",
    "    \n",
    "    fig = plt.figure(figsize=(8,6))\n",
    "    ax = fig.add_subplot(111)\n",
    "    ax.scatter(x1, y1, s=30, c='red', marker='s')\n",
    "    ax.scatter(x2, y2, s=30, c='green')\n",
    "    x = np.arange(-3.0, 3.0, 0.1)\n",
    "    y = (-weights[1]*x - weights[0])/weights[2]\n",
    "    ax.plot(x, y)\n",
    "    plt.xlabel('X1', size=16)\n",
    "    plt.ylabel('X2', size=16)\n",
    "    plt.grid()\n",
    "    plt.show()"
   ]
  },
  {
   "cell_type": "markdown",
   "metadata": {},
   "source": [
    "### SGD (Stochastic Gradient Descent)"
   ]
  },
  {
   "cell_type": "code",
   "execution_count": 39,
   "metadata": {},
   "outputs": [],
   "source": [
    "def SGD(data, labels):\n",
    "    m, n = np.shape(data)\n",
    "    alpha = 1e-2\n",
    "    weights = np.ones(n)\n",
    "    for i in range(m):\n",
    "        y = Sigmoid(sum(data[i]*weights))\n",
    "        e = labels[i] - y\n",
    "        weights = weights + alpha * e *data[i]\n",
    "    return weights"
   ]
  },
  {
   "cell_type": "code",
   "execution_count": 40,
   "metadata": {},
   "outputs": [
    {
     "data": {
      "image/png": "[encoded data removed]",
      "text/plain": [
       "<Figure size 576x432 with 1 Axes>"
      ]
     },
     "metadata": {
      "needs_background": "light"
     },
     "output_type": "display_data"
    }
   ],
   "source": [
    "data, label = LoadDataSet()\n",
    "weights = SGD(np.array(data), label)\n",
    "PlotLine(weights)"
   ]
  },
  {
   "cell_type": "markdown",
   "metadata": {},
   "source": [
    "### 改进的SGD算法"
   ]
  },
  {
   "cell_type": "code",
   "execution_count": 50,
   "metadata": {},
   "outputs": [],
   "source": [
    "def SGD1(data, label, numIter=150):\n",
    "    m, n = np.shape(data)\n",
    "    weights = np.ones(n)\n",
    "    bestWeights = np.ones(n)\n",
    "    minError = 1.0\n",
    "    errorList = []\n",
    "    weights0 = []\n",
    "    weights1 = []\n",
    "    weights2 = []\n",
    "    \n",
    "    for j in range(numIter):\n",
    "        dataIndex = range(m)\n",
    "        for i in range(m):\n",
    "            alpha = 4/(1.0+j+i)+0.01\n",
    "            randIndex = int(np.random.uniform(0,len(dataIndex)))\n",
    "            y = Sigmoid(sum(data[randIndex]*weights))\n",
    "            e = label[randIndex] - y\n",
    "            weights = weights + alpha*e*data[randIndex]\n",
    "        if j%1 == 0:\n",
    "            print('Iter: %d, Error: %.10f' % (j, e))\n",
    "            errorList.append(e)\n",
    "            weights0.append(weights[0])\n",
    "            weights1.append(weights[1])\n",
    "            weights2.append(weights[2])\n",
    "            if abs(e) < abs(minError) and e!=-0.00:\n",
    "                minError = e\n",
    "                bestWeights = weights\n",
    "            #PlotLine(weights)\n",
    "    \n",
    "    plt.figure(figsize=(12,6))\n",
    "    plt.plot(weights0, 'green')\n",
    "    plt.plot(weights1, 'blue')\n",
    "    plt.plot(weights2, 'orange')\n",
    "    plt.plot(errorList, 'red')\n",
    "    plt.grid()\n",
    "    \n",
    "    print('minError: %.10f' % minError)\n",
    "#     return weights\n",
    "    return bestWeights"
   ]
  },
  {
   "cell_type": "code",
   "execution_count": 54,
   "metadata": {
    "scrolled": false
   },
   "outputs": [
    {
     "name": "stdout",
     "output_type": "stream",
     "text": [
      "Iter: 0, Error: -0.0001086615\n",
      "Iter: 1, Error: 0.0377705585\n",
      "Iter: 2, Error: -0.4013456520\n",
      "Iter: 3, Error: 0.0000272779\n",
      "Iter: 4, Error: -0.0170562196\n",
      "Iter: 5, Error: 0.0000006773\n",
      "Iter: 6, Error: 0.0177088667\n",
      "Iter: 7, Error: 0.0001216365\n",
      "Iter: 8, Error: 0.1099550841\n",
      "Iter: 9, Error: 0.2426727328\n",
      "Iter: 10, Error: 0.0035119203\n",
      "Iter: 11, Error: -0.0000510395\n",
      "Iter: 12, Error: -0.0001996753\n",
      "Iter: 13, Error: -0.0011233115\n",
      "Iter: 14, Error: -0.0006664054\n",
      "Iter: 15, Error: 0.0000002660\n",
      "Iter: 16, Error: -0.0016585755\n",
      "Iter: 17, Error: -0.0002881585\n",
      "Iter: 18, Error: -0.0006863864\n",
      "Iter: 19, Error: -0.0004698615\n",
      "Iter: 20, Error: -0.3567345037\n",
      "Iter: 21, Error: -0.0036476143\n",
      "Iter: 22, Error: 0.0000590250\n",
      "Iter: 23, Error: -0.0000796302\n",
      "Iter: 24, Error: -0.0902620785\n",
      "Iter: 25, Error: -0.5349375363\n",
      "Iter: 26, Error: 0.1643940789\n",
      "Iter: 27, Error: -0.0000089412\n",
      "Iter: 28, Error: 0.0000000219\n",
      "Iter: 29, Error: -0.0069345743\n",
      "Iter: 30, Error: 0.0000004506\n",
      "Iter: 31, Error: -0.0000783552\n",
      "Iter: 32, Error: -0.0168904557\n",
      "Iter: 33, Error: 0.0310801805\n",
      "Iter: 34, Error: 0.0000036312\n",
      "Iter: 35, Error: 0.5824131691\n",
      "Iter: 36, Error: 0.0001998374\n",
      "Iter: 37, Error: -0.0000819753\n",
      "Iter: 38, Error: 0.0000066983\n",
      "Iter: 39, Error: 0.0002107722\n",
      "Iter: 40, Error: 0.0000010302\n",
      "Iter: 41, Error: 0.0000098778\n",
      "Iter: 42, Error: 0.0001543621\n",
      "Iter: 43, Error: -0.0000102196\n",
      "Iter: 44, Error: 0.0000089751\n",
      "Iter: 45, Error: -0.0001354947\n",
      "Iter: 46, Error: 0.2524933510\n",
      "Iter: 47, Error: -0.0000013293\n",
      "Iter: 48, Error: -0.0022545352\n",
      "Iter: 49, Error: 0.0000410754\n",
      "Iter: 50, Error: -0.0000453947\n",
      "Iter: 51, Error: 0.0002606616\n",
      "Iter: 52, Error: -0.0000120536\n",
      "Iter: 53, Error: -0.0000238824\n",
      "Iter: 54, Error: -0.2018351958\n",
      "Iter: 55, Error: 0.0000035119\n",
      "Iter: 56, Error: 0.0006887656\n",
      "Iter: 57, Error: 0.6203125081\n",
      "Iter: 58, Error: -0.0000392027\n",
      "Iter: 59, Error: -0.0185097321\n",
      "Iter: 60, Error: -0.0000127829\n",
      "Iter: 61, Error: 0.8587458134\n",
      "Iter: 62, Error: 0.0021015060\n",
      "Iter: 63, Error: 0.1694738653\n",
      "Iter: 64, Error: 0.9423929700\n",
      "Iter: 65, Error: -0.0001284583\n",
      "Iter: 66, Error: 0.0000918780\n",
      "Iter: 67, Error: -0.0000008653\n",
      "Iter: 68, Error: 0.1406894585\n",
      "Iter: 69, Error: -0.1498726575\n",
      "Iter: 70, Error: -0.0028946791\n",
      "Iter: 71, Error: 0.0011038801\n",
      "Iter: 72, Error: 0.0000379544\n",
      "Iter: 73, Error: -0.0000706768\n",
      "Iter: 74, Error: 0.0035026783\n",
      "Iter: 75, Error: 0.0038710599\n",
      "Iter: 76, Error: 0.0057250261\n",
      "Iter: 77, Error: -0.0007354567\n",
      "Iter: 78, Error: -0.0269999347\n",
      "Iter: 79, Error: 0.0000244927\n",
      "Iter: 80, Error: 0.0294520855\n",
      "Iter: 81, Error: 0.0010073184\n",
      "Iter: 82, Error: 0.0000806194\n",
      "Iter: 83, Error: -0.0017739703\n",
      "Iter: 84, Error: 0.0030068525\n",
      "Iter: 85, Error: -0.0003103135\n",
      "Iter: 86, Error: 0.0003729208\n",
      "Iter: 87, Error: -0.0000327175\n",
      "Iter: 88, Error: -0.0000121182\n",
      "Iter: 89, Error: 0.3253219009\n",
      "Iter: 90, Error: -0.0000038485\n",
      "Iter: 91, Error: 0.0080097592\n",
      "Iter: 92, Error: 0.0000089464\n",
      "Iter: 93, Error: -0.3791269014\n",
      "Iter: 94, Error: 0.0010786484\n",
      "Iter: 95, Error: -0.0000002228\n",
      "Iter: 96, Error: 0.0003765215\n",
      "Iter: 97, Error: 0.0000272176\n",
      "Iter: 98, Error: 0.0000353357\n",
      "Iter: 99, Error: -0.0001707991\n",
      "Iter: 100, Error: -0.0370325880\n",
      "Iter: 101, Error: 0.0000020531\n",
      "Iter: 102, Error: -0.0001129308\n",
      "Iter: 103, Error: 0.0000024394\n",
      "Iter: 104, Error: -0.0000197315\n",
      "Iter: 105, Error: 0.0022063700\n",
      "Iter: 106, Error: 0.0000000425\n",
      "Iter: 107, Error: -0.0026179326\n",
      "Iter: 108, Error: 0.0015870818\n",
      "Iter: 109, Error: 0.0001229788\n",
      "Iter: 110, Error: 0.0000034059\n",
      "Iter: 111, Error: 0.0000159880\n",
      "Iter: 112, Error: 0.0030209913\n",
      "Iter: 113, Error: -0.0160735387\n",
      "Iter: 114, Error: 0.0847738830\n",
      "Iter: 115, Error: 0.0000000282\n",
      "Iter: 116, Error: -0.0793468302\n",
      "Iter: 117, Error: -0.4350218562\n",
      "Iter: 118, Error: -0.7318124406\n",
      "Iter: 119, Error: 0.0007134141\n",
      "Iter: 120, Error: 0.0004191136\n",
      "Iter: 121, Error: -0.0602845703\n",
      "Iter: 122, Error: -0.0087537918\n",
      "Iter: 123, Error: 0.0000143403\n",
      "Iter: 124, Error: -0.0142753613\n",
      "Iter: 125, Error: -0.0019949914\n",
      "Iter: 126, Error: -0.1223315554\n",
      "Iter: 127, Error: 0.0000004783\n",
      "Iter: 128, Error: 0.0207151848\n",
      "Iter: 129, Error: 0.0000000024\n",
      "Iter: 130, Error: 0.0000049427\n",
      "Iter: 131, Error: -0.0124008425\n",
      "Iter: 132, Error: -0.6279565874\n",
      "Iter: 133, Error: -0.0000491011\n",
      "Iter: 134, Error: 0.1231472775\n",
      "Iter: 135, Error: 0.9610133171\n",
      "Iter: 136, Error: -0.0004134755\n",
      "Iter: 137, Error: 0.0000004460\n",
      "Iter: 138, Error: -0.1144234452\n",
      "Iter: 139, Error: 0.1038773955\n",
      "Iter: 140, Error: -0.0000079620\n",
      "Iter: 141, Error: -0.5758514598\n",
      "Iter: 142, Error: -0.0000404611\n",
      "Iter: 143, Error: 0.0000000691\n",
      "Iter: 144, Error: 0.0004356873\n",
      "Iter: 145, Error: 0.0000000909\n",
      "Iter: 146, Error: -0.0000324217\n",
      "Iter: 147, Error: -0.1025062822\n",
      "Iter: 148, Error: -0.7933876702\n",
      "Iter: 149, Error: -0.0000835692\n",
      "Iter: 150, Error: 0.2528494572\n",
      "Iter: 151, Error: 0.0067076009\n",
      "Iter: 152, Error: 0.0000077786\n",
      "Iter: 153, Error: 0.0777026703\n",
      "Iter: 154, Error: -0.0110509642\n",
      "Iter: 155, Error: 0.2645750598\n",
      "Iter: 156, Error: 0.0049232502\n",
      "Iter: 157, Error: 0.0000102282\n",
      "Iter: 158, Error: 0.0003274743\n",
      "Iter: 159, Error: -0.0002311381\n",
      "Iter: 160, Error: 0.0000000215\n",
      "Iter: 161, Error: -0.0087154754\n",
      "Iter: 162, Error: -0.0017223335\n",
      "Iter: 163, Error: 0.0017380427\n",
      "Iter: 164, Error: 0.0000610665\n",
      "Iter: 165, Error: -0.0000962128\n",
      "Iter: 166, Error: 0.0000098361\n",
      "Iter: 167, Error: -0.0008957006\n",
      "Iter: 168, Error: 0.0000058769\n",
      "Iter: 169, Error: 0.0047515082\n",
      "Iter: 170, Error: -0.0286104447\n",
      "Iter: 171, Error: -0.0000791105\n",
      "Iter: 172, Error: 0.0802379027\n",
      "Iter: 173, Error: -0.0000445589\n",
      "Iter: 174, Error: -0.0108352939\n",
      "Iter: 175, Error: 0.0103860202\n",
      "Iter: 176, Error: -0.0004768054\n",
      "Iter: 177, Error: 0.0000090454\n",
      "Iter: 178, Error: 0.0000049834\n",
      "Iter: 179, Error: 0.0114172392\n",
      "Iter: 180, Error: -0.0003885500\n",
      "Iter: 181, Error: 0.0000016265\n",
      "Iter: 182, Error: -0.5314270956\n",
      "Iter: 183, Error: 0.0786815278\n",
      "Iter: 184, Error: -0.0013322610\n",
      "Iter: 185, Error: 0.0000001821\n",
      "Iter: 186, Error: -0.0002242603\n",
      "Iter: 187, Error: 0.0000440773\n",
      "Iter: 188, Error: 0.0048022474\n",
      "Iter: 189, Error: -0.0797670311\n",
      "Iter: 190, Error: 0.4012465675\n",
      "Iter: 191, Error: -0.0000216943\n",
      "Iter: 192, Error: -0.0047342832\n",
      "Iter: 193, Error: 0.0000001604\n",
      "Iter: 194, Error: 0.0000000566\n",
      "Iter: 195, Error: -0.0013575334\n",
      "Iter: 196, Error: 0.1555113636\n",
      "Iter: 197, Error: 0.0000064772\n",
      "Iter: 198, Error: -0.0001901717\n",
      "Iter: 199, Error: 0.0000117843\n",
      "minError: 0.0000000024\n"
     ]
    },
    {
     "data": {
      "image/png": "[encoded data removed]",
      "text/plain": [
       "<Figure size 864x432 with 1 Axes>"
      ]
     },
     "metadata": {
      "needs_background": "light"
     },
     "output_type": "display_data"
    },
    {
     "data": {
      "image/png": "[encoded data removed]",
      "text/plain": [
       "<Figure size 576x432 with 1 Axes>"
      ]
     },
     "metadata": {
      "needs_background": "light"
     },
     "output_type": "display_data"
    }
   ],
   "source": [
    "data, label = LoadDataSet()\n",
    "weights = SGD1(np.array(data), label, 200)\n",
    "PlotLine(weights)"
   ]
  },
  {
   "cell_type": "markdown",
   "metadata": {},
   "source": [
    "## 2. Rogistic Regression 模型封装类"
   ]
  },
  {
   "cell_type": "code",
   "execution_count": 56,
   "metadata": {},
   "outputs": [],
   "source": [
    "# Sigmoid函数(逻辑斯蒂函数)\n",
    "def Sigmoid(x):\n",
    "    return 1.0/(1+np.exp(-x))"
   ]
  },
  {
   "cell_type": "code",
   "execution_count": 58,
   "metadata": {},
   "outputs": [],
   "source": [
    "class LogisticRegression:\n",
    "    '''\n",
    "    weights: 直线参数\n",
    "    penalty: 正则项(惩罚项)范数\n",
    "    C: 惩罚项系数\n",
    "    fit_intercepty: 是否有截距项\n",
    "    '''\n",
    "    def __init__(self, penalty=\"l1\", C=0, fit_intercepty=True):\n",
    "        self.weights = None\n",
    "        self.C = C\n",
    "        self.panalty = panalty\n",
    "        self.fit_intercept = fit_intercepty\n",
    "    \n",
    "    # 拟合函数\n",
    "    def fit(self, X, y, lr=0.01, eps=1e-7, maxIter=1e7):\n",
    "        if self.fit_intercept:\n",
    "            X = np.c_[np.ones(X.shape[0]), X]\n",
    "        \n",
    "        l_old = np.inf\n",
    "        self.weights = np.random.rand(X.shape[1])\n",
    "        for iter in range(int(max_iter)):\n",
    "            y_predict = Sigmoid(np.dot(X, self.weights))\n",
    "            loss = self.logLikelihood(X, y, y_old)\n",
    "            if l_old - loss < eps:\n",
    "                return\n",
    "            l_old = loss\n",
    "            self.weights -= lr * self.grad(X, y, y_predict)\n",
    "    \n",
    "    # 对数似然函数\n",
    "    def logLikehood(self, X, y, y_predict):\n",
    "        n, m = X.shape\n",
    "        loss = -np.log(y_predict[y==1]).sum() - np.log(1-y_predict[y==0]).sum()\n",
    "        # 正则化项\n",
    "        norm = 0\n",
    "        if self.penalty==\"l2\":\n",
    "            norm = 2\n",
    "        else:\n",
    "            norm = 1\n",
    "        weights = self.weights\n",
    "        C = self.C\n",
    "        penalty = 0.5 * C * np.linalg.norm(weights, norm)\n",
    "        # 返回结构风险损失\n",
    "        return 1.0/n * (loss + penalty)\n",
    "    \n",
    "    # 对数似然函数的梯度\n",
    "    def grad(self, X, y, y_predict):\n",
    "        n, m = X.shape\n",
    "        p = self.penalty\n",
    "        weights = self.weights\n",
    "        C = self.C\n",
    "        dp = 0\n",
    "        if self.penalty==\"l2\":\n",
    "            dp = C*weights\n",
    "        else:\n",
    "            dp = C*np.sign(weights)\n",
    "            \n",
    "        return -1.0/n * (np.dot(y-y_predict, X) + dp)"
   ]
  }
 ],
 "metadata": {
  "kernelspec": {
   "display_name": "Python 3",
   "language": "python",
   "name": "python3"
  },
  "language_info": {
   "codemirror_mode": {
    "name": "ipython",
    "version": 3
   },
   "file_extension": ".py",
   "mimetype": "text/x-python",
   "name": "python",
   "nbconvert_exporter": "python",
   "pygments_lexer": "ipython3",
   "version": "3.7.0"
  }
 },
 "nbformat": 4,
 "nbformat_minor": 2
}
