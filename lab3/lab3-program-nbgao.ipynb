{
 "cells": [
  {
   "cell_type": "markdown",
   "metadata": {},
   "source": [
    "# 实验3程序 (Lab3 Program)\n",
    "\n",
    "Author: 高鹏昺\n",
    "\n",
    "Email: nbgao@126.com"
   ]
  },
  {
   "cell_type": "code",
   "execution_count": 690,
   "metadata": {},
   "outputs": [],
   "source": [
    "import numpy as np\n",
    "import sklearn\n",
    "import scipy.io as sio\n",
    "from scipy import ndimage\n",
    "import matplotlib.pyplot as plt\n",
    "from skimage import feature as feature\n",
    "from sklearn.metrics import classification_report\n",
    "import time\n",
    "import warnings\n",
    "warnings.filterwarnings('ignore')\n",
    "\n",
    "%matplotlib inline"
   ]
  },
  {
   "cell_type": "code",
   "execution_count": 691,
   "metadata": {},
   "outputs": [
    {
     "data": {
      "text/plain": [
       "{'__header__': b'MATLAB 5.0 MAT-file Platform: posix, Created on: Sun Mar 30 03:19:02 2014',\n",
       " '__version__': '1.0',\n",
       " '__globals__': [],\n",
       " 'mldata_descr_ordering': array([[array(['label'], dtype='<U5'), array(['data'], dtype='<U4')]],\n",
       "       dtype=object),\n",
       " 'data': array([[0, 0, 0, ..., 0, 0, 0],\n",
       "        [0, 0, 0, ..., 0, 0, 0],\n",
       "        [0, 0, 0, ..., 0, 0, 0],\n",
       "        ...,\n",
       "        [0, 0, 0, ..., 0, 0, 0],\n",
       "        [0, 0, 0, ..., 0, 0, 0],\n",
       "        [0, 0, 0, ..., 0, 0, 0]], dtype=uint8),\n",
       " 'label': array([[0., 0., 0., ..., 9., 9., 9.]])}"
      ]
     },
     "execution_count": 691,
     "metadata": {},
     "output_type": "execute_result"
    }
   ],
   "source": [
    "# mnist = fetch_mldata('mnist-original', data_home = './data/') \n",
    "mnist = sio.loadmat('./data/mnist-original.mat')\n",
    "mnist"
   ]
  },
  {
   "cell_type": "code",
   "execution_count": 788,
   "metadata": {},
   "outputs": [
    {
     "name": "stdout",
     "output_type": "stream",
     "text": [
      "data shape: (70000, 784)\n",
      "label shape: (70000, 1)\n"
     ]
    }
   ],
   "source": [
    "data, label = mnist['data'].T, mnist['label'].T.astype('int')\n",
    "\n",
    "print('data shape:', data.shape)\n",
    "print('label shape:', label.shape)"
   ]
  },
  {
   "cell_type": "code",
   "execution_count": 6,
   "metadata": {},
   "outputs": [],
   "source": [
    "img = np.zeros([len(data), 28, 28])\n",
    "for i in range(0,len(data)):\n",
    "    img[i] = data[i].reshape(28, 28)"
   ]
  },
  {
   "cell_type": "code",
   "execution_count": 7,
   "metadata": {
    "scrolled": true
   },
   "outputs": [
    {
     "data": {
      "text/plain": [
       "(-0.5, 27.5, 27.5, -0.5)"
      ]
     },
     "execution_count": 7,
     "metadata": {},
     "output_type": "execute_result"
    },
    {
     "data": {
      "image/png": "[encoded data removed]",
      "text/plain": [
       "<Figure size 432x288 with 1 Axes>"
      ]
     },
     "metadata": {
      "needs_background": "light"
     },
     "output_type": "display_data"
    }
   ],
   "source": [
    "plt.imshow(img[50000], cmap='gray')\n",
    "plt.axis()"
   ]
  },
  {
   "cell_type": "code",
   "execution_count": 774,
   "metadata": {},
   "outputs": [],
   "source": [
    "index_list = range(data.shape[0])\n",
    "random_index = random.sample(index_list, 10000)"
   ]
  },
  {
   "cell_type": "code",
   "execution_count": 789,
   "metadata": {},
   "outputs": [
    {
     "name": "stdout",
     "output_type": "stream",
     "text": [
      "(10000, 784)\n",
      "(10000, 1)\n"
     ]
    }
   ],
   "source": [
    "data_sub = data[random_index]\n",
    "label_sub = label[random_index]\n",
    "print(data_sub.shape)\n",
    "print(label_sub.shape)"
   ]
  },
  {
   "cell_type": "markdown",
   "metadata": {},
   "source": [
    "# 1. Naive Bayes"
   ]
  },
  {
   "cell_type": "markdown",
   "metadata": {},
   "source": [
    "## 1.1 Source Code"
   ]
  },
  {
   "cell_type": "code",
   "execution_count": 864,
   "metadata": {},
   "outputs": [],
   "source": [
    "# 图像二值化 \n",
    "data_bin = data.copy()\n",
    "threshold = 128\n",
    "M, N = data_bin.shape\n",
    "for i in range(M):\n",
    "    for j in range(N):\n",
    "        data_bin[i,j] = 1 if data_bin[i,j]>=threshold else 0"
   ]
  },
  {
   "cell_type": "code",
   "execution_count": 770,
   "metadata": {
    "scrolled": true
   },
   "outputs": [
    {
     "data": {
      "text/plain": [
       "<matplotlib.image.AxesImage at 0x7f1693cc96a0>"
      ]
     },
     "execution_count": 770,
     "metadata": {},
     "output_type": "execute_result"
    },
    {
     "data": {
      "image/png": "[encoded data removed]",
      "text/plain": [
       "<Figure size 432x288 with 1 Axes>"
      ]
     },
     "metadata": {
      "needs_background": "light"
     },
     "output_type": "display_data"
    }
   ],
   "source": [
    "# 二值化后的图像\n",
    "plt.imshow(data_bin[0].reshape(28,28), cmap='gray')"
   ]
  },
  {
   "cell_type": "code",
   "execution_count": 870,
   "metadata": {},
   "outputs": [
    {
     "name": "stdout",
     "output_type": "stream",
     "text": [
      "data_train.shape: (60000, 784)\n",
      "data_test.shape: (10000, 784)\n"
     ]
    }
   ],
   "source": [
    "from sklearn.model_selection import train_test_split\n",
    "\n",
    "data_train, data_test, label_train, label_test = train_test_split(data_bin, label, test_size=1/7, random_state=33)\n",
    "print('data_train.shape:', data_train.shape)\n",
    "print('data_test.shape:', data_test.shape)"
   ]
  },
  {
   "cell_type": "code",
   "execution_count": 871,
   "metadata": {},
   "outputs": [],
   "source": [
    "class NaiveBayes():\n",
    "    def Train(self, X, Y):\n",
    "        M, N = X.shape\n",
    "        Y = Y[:,0]\n",
    "        class_num = 10\n",
    "        self.P_prior = np.zeros(class_num)         # 先验概率\n",
    "        self.P_con = np.zeros((class_num, N, 2))   # 条件概率\n",
    "\n",
    "        # 计算先验概率及条件概率\n",
    "        for i in range(M):\n",
    "            img = X[i]\n",
    "            y = Y[i]\n",
    "            self.P_prior[y] += 1\n",
    "            for j in range(N):\n",
    "                self.P_con[y][j][img[j]] += 1\n",
    "\n",
    "        # 将概率归到[1.10001]\n",
    "        for i in range(class_num):\n",
    "            for j in range(N):\n",
    "                pix_0 = self.P_con[i][j][0]\n",
    "                pix_1 = self.P_con[i][j][1]\n",
    "\n",
    "                # 计算0，1像素点对应的条件概率\n",
    "                P_0 = (float(pix_0)/float(pix_0+pix_1))*1000000 + 1\n",
    "                P_1 = (float(pix_1)/float(pix_0+pix_1))*1000000 + 1\n",
    "\n",
    "                self.P_con[i][j][0] = P_0\n",
    "                self.P_con[i][j][1] = P_1\n",
    "\n",
    "        return self.P_prior, self.P_con\n",
    "\n",
    "    # 计算概率\n",
    "    def calc_P(self, img, y):\n",
    "        prob = int(self.P_prior[y])\n",
    "\n",
    "        for i in range(len(img)):\n",
    "            prob *= int(self.P_con[y][i][img[i]])\n",
    "\n",
    "        return prob\n",
    "\n",
    "    def Predict(self, X_test):\n",
    "        predict = []\n",
    "        class_num = 10\n",
    "        for img in X_test:\n",
    "            max_y = 0\n",
    "            max_prob = 0\n",
    "    #         max_prob = calc_P(img, 0)\n",
    "            for j in range(class_num):\n",
    "                prob = self.calc_P(img, j)\n",
    "                if prob > max_prob:\n",
    "                    max_y = j\n",
    "                    max_prob = prob\n",
    "\n",
    "            predict.append(max_y)\n",
    "\n",
    "        return np.array(predict)"
   ]
  },
  {
   "cell_type": "code",
   "execution_count": 872,
   "metadata": {},
   "outputs": [],
   "source": [
    "# 模型训练\n",
    "model = NaiveBayes()\n",
    "model.Train(data_train, label_train);"
   ]
  },
  {
   "cell_type": "code",
   "execution_count": 873,
   "metadata": {},
   "outputs": [
    {
     "data": {
      "text/plain": [
       "array([9, 8, 6, ..., 8, 2, 8])"
      ]
     },
     "execution_count": 873,
     "metadata": {},
     "output_type": "execute_result"
    }
   ],
   "source": [
    "# 模型预测\n",
    "label_predict = model.Predict(data_test)\n",
    "label_predict"
   ]
  },
  {
   "cell_type": "code",
   "execution_count": 874,
   "metadata": {
    "scrolled": true
   },
   "outputs": [
    {
     "name": "stdout",
     "output_type": "stream",
     "text": [
      "              precision    recall  f1-score   support\n",
      "\n",
      "           0       0.92      0.88      0.90       957\n",
      "           1       0.88      0.96      0.92      1113\n",
      "           2       0.88      0.83      0.85      1040\n",
      "           3       0.77      0.81      0.79      1012\n",
      "           4       0.81      0.79      0.80       949\n",
      "           5       0.81      0.71      0.76       940\n",
      "           6       0.90      0.92      0.91      1006\n",
      "           7       0.93      0.85      0.89      1014\n",
      "           8       0.74      0.78      0.76       970\n",
      "           9       0.74      0.82      0.78       999\n",
      "\n",
      "   micro avg       0.84      0.84      0.84     10000\n",
      "   macro avg       0.84      0.83      0.83     10000\n",
      "weighted avg       0.84      0.84      0.84     10000\n",
      "\n"
     ]
    }
   ],
   "source": [
    "print(classification_report(label_test, label_predict))"
   ]
  },
  {
   "cell_type": "markdown",
   "metadata": {},
   "source": [
    "## 1.2 Naive Bayes - sklearn"
   ]
  },
  {
   "cell_type": "markdown",
   "metadata": {},
   "source": [
    "### Gaussian Naive Bayes"
   ]
  },
  {
   "cell_type": "code",
   "execution_count": 876,
   "metadata": {},
   "outputs": [],
   "source": [
    "import sklearn.naive_bayes as naive_bayes\n",
    "\n",
    "model = naive_bayes.GaussianNB()\n",
    "model.fit(data_train, label_train)\n",
    "label_predict = model.predict(data_test)"
   ]
  },
  {
   "cell_type": "code",
   "execution_count": 877,
   "metadata": {},
   "outputs": [
    {
     "name": "stdout",
     "output_type": "stream",
     "text": [
      "The Accuracy of Naive Bayes: 0.5506\n",
      "              precision    recall  f1-score   support\n",
      "\n",
      "           0       0.60      0.94      0.74       957\n",
      "           1       0.68      0.97      0.80      1113\n",
      "           2       0.85      0.23      0.36      1040\n",
      "           3       0.71      0.45      0.55      1012\n",
      "           4       0.87      0.14      0.25       949\n",
      "           5       0.69      0.04      0.07       940\n",
      "           6       0.66      0.93      0.77      1006\n",
      "           7       0.90      0.29      0.44      1014\n",
      "           8       0.32      0.51      0.39       970\n",
      "           9       0.37      0.93      0.53       999\n",
      "\n",
      "   micro avg       0.55      0.55      0.55     10000\n",
      "   macro avg       0.66      0.54      0.49     10000\n",
      "weighted avg       0.67      0.55      0.50     10000\n",
      "\n"
     ]
    }
   ],
   "source": [
    "# Result Evaluation\n",
    "print('The Accuracy of Naive Bayes:', model.score(data_test, label_test))\n",
    "print(classification_report(label_test, label_predict))"
   ]
  },
  {
   "cell_type": "markdown",
   "metadata": {},
   "source": [
    "### Bernoulli Naive Bayes"
   ]
  },
  {
   "cell_type": "code",
   "execution_count": 878,
   "metadata": {},
   "outputs": [],
   "source": [
    "model = naive_bayes.BernoulliNB()\n",
    "model.fit(data_train, label_train)\n",
    "label_predict = model.predict(data_test)"
   ]
  },
  {
   "cell_type": "code",
   "execution_count": 879,
   "metadata": {},
   "outputs": [
    {
     "name": "stdout",
     "output_type": "stream",
     "text": [
      "The Accuracy of Naive Bayes: 0.8351\n",
      "              precision    recall  f1-score   support\n",
      "\n",
      "           0       0.92      0.88      0.90       957\n",
      "           1       0.88      0.96      0.92      1113\n",
      "           2       0.88      0.83      0.85      1040\n",
      "           3       0.77      0.80      0.78      1012\n",
      "           4       0.80      0.79      0.79       949\n",
      "           5       0.81      0.71      0.76       940\n",
      "           6       0.90      0.92      0.91      1006\n",
      "           7       0.93      0.84      0.89      1014\n",
      "           8       0.74      0.78      0.76       970\n",
      "           9       0.74      0.81      0.77       999\n",
      "\n",
      "   micro avg       0.84      0.84      0.84     10000\n",
      "   macro avg       0.84      0.83      0.83     10000\n",
      "weighted avg       0.84      0.84      0.84     10000\n",
      "\n"
     ]
    }
   ],
   "source": [
    "# Result Evaluation\n",
    "print('The Accuracy of Naive Bayes:', model.score(data_test, label_test))\n",
    "print(classification_report(label_test, label_predict))"
   ]
  },
  {
   "cell_type": "markdown",
   "metadata": {},
   "source": [
    "# 2. K-Means"
   ]
  },
  {
   "cell_type": "markdown",
   "metadata": {},
   "source": [
    "## 2.1 K-Means Source Code"
   ]
  },
  {
   "cell_type": "code",
   "execution_count": 596,
   "metadata": {
    "scrolled": true
   },
   "outputs": [
    {
     "name": "stdout",
     "output_type": "stream",
     "text": [
      "Init clusters num: 10\n",
      "Iter:  0\n",
      "Iter:  50\n",
      "Iter:  100\n",
      "Iter:  150\n",
      "Iter:  200\n",
      "Iter:  250\n",
      "Iter:  300\n",
      "Iter:  350\n",
      "Iter:  400\n",
      "Iter:  450\n",
      "Iter:  500\n",
      "Iter:  550\n",
      "Iter:  600\n",
      "Iter:  650\n",
      "Iter:  700\n",
      "Iter:  750\n",
      "Iter:  800\n",
      "Iter:  850\n",
      "Iter:  900\n",
      "Iter:  950\n",
      "Finished: 955.0 s\n"
     ]
    }
   ],
   "source": [
    "time_start = time.time()\n",
    "### K = 10 设置0个数聚类类别\n",
    "K = 10\n",
    "print('Init clusters num:', num)\n",
    "# 初始化聚类中心 C K*N 10*784\n",
    "C = np.floor(256*np.random.random((K, N)))\n",
    "\n",
    "iter = 0\n",
    "maxIter = 1000\n",
    "while iter<maxIter:\n",
    "    # 距离矩阵 D M*K 10000*10\n",
    "    D = np.zeros((M, K))\n",
    "    for k in range(K):\n",
    "        for i in range(M):\n",
    "            D[i,k] = np.sqrt(np.sum(np.square(data_sub[i,:] - C[k,:])))\n",
    "            # D[i,k] = np.linalg.norm(data_sub[i,:]-C[k,:])\n",
    "    y = np.argmin(D, axis=1)\n",
    "    num = np.unique(y).size\n",
    "    # 初始化必须为10类\n",
    "    if num!=K:\n",
    "        C = np.floor(256*np.random.random((K, N)))\n",
    "        continue\n",
    "\n",
    "    for k in range(K):\n",
    "        C[k,:] = np.mean(data_sub[y==k,:], axis=0).astype('int') \n",
    "        \n",
    "    if iter%50==0:\n",
    "        print('Iter: ', iter)\n",
    "    iter += 1\n",
    "\n",
    "time_end = time.time()\n",
    "print('Finished: {:.1f} s'.format(time_end-time_start))"
   ]
  },
  {
   "cell_type": "markdown",
   "metadata": {},
   "source": [
    "### Result\n",
    "初始中心点的选取对K-Means的聚类效果有很大的影响"
   ]
  },
  {
   "cell_type": "code",
   "execution_count": 704,
   "metadata": {
    "scrolled": true
   },
   "outputs": [
    {
     "name": "stdout",
     "output_type": "stream",
     "text": [
      "第0类别样本数: 726\n",
      "第1类别样本数: 1060\n",
      "第2类别样本数: 883\n",
      "第3类别样本数: 1218\n",
      "第4类别样本数: 688\n",
      "第5类别样本数: 891\n",
      "第6类别样本数: 1365\n",
      "第7类别样本数: 1603\n",
      "第8类别样本数: 781\n",
      "第9类别样本数: 785\n"
     ]
    }
   ],
   "source": [
    "# 聚类后每一类别的数量\n",
    "for i in range(10):\n",
    "    print('第{}类别样本数: {}'.format(i, data_sub[y==i].shape[0]))"
   ]
  },
  {
   "cell_type": "code",
   "execution_count": 883,
   "metadata": {
    "scrolled": false
   },
   "outputs": [
    {
     "name": "stdout",
     "output_type": "stream",
     "text": [
      "第0类中心图像:\n"
     ]
    },
    {
     "data": {
      "image/png": "[encoded data removed]",
      "text/plain": [
       "<Figure size 216x216 with 1 Axes>"
      ]
     },
     "metadata": {
      "needs_background": "light"
     },
     "output_type": "display_data"
    },
    {
     "name": "stdout",
     "output_type": "stream",
     "text": [
      "第1类中心图像:\n"
     ]
    },
    {
     "data": {
      "image/png": "[encoded data removed]",
      "text/plain": [
       "<Figure size 216x216 with 1 Axes>"
      ]
     },
     "metadata": {
      "needs_background": "light"
     },
     "output_type": "display_data"
    },
    {
     "name": "stdout",
     "output_type": "stream",
     "text": [
      "第2类中心图像:\n"
     ]
    },
    {
     "data": {
      "image/png": "[encoded data removed]",
      "text/plain": [
       "<Figure size 216x216 with 1 Axes>"
      ]
     },
     "metadata": {
      "needs_background": "light"
     },
     "output_type": "display_data"
    },
    {
     "name": "stdout",
     "output_type": "stream",
     "text": [
      "第3类中心图像:\n"
     ]
    },
    {
     "data": {
      "image/png": "[encoded data removed]",
      "text/plain": [
       "<Figure size 216x216 with 1 Axes>"
      ]
     },
     "metadata": {
      "needs_background": "light"
     },
     "output_type": "display_data"
    },
    {
     "name": "stdout",
     "output_type": "stream",
     "text": [
      "第4类中心图像:\n"
     ]
    },
    {
     "data": {
      "image/png": "[encoded data removed]",
      "text/plain": [
       "<Figure size 216x216 with 1 Axes>"
      ]
     },
     "metadata": {
      "needs_background": "light"
     },
     "output_type": "display_data"
    },
    {
     "name": "stdout",
     "output_type": "stream",
     "text": [
      "第5类中心图像:\n"
     ]
    },
    {
     "data": {
      "image/png": "[encoded data removed]",
      "text/plain": [
       "<Figure size 216x216 with 1 Axes>"
      ]
     },
     "metadata": {
      "needs_background": "light"
     },
     "output_type": "display_data"
    },
    {
     "name": "stdout",
     "output_type": "stream",
     "text": [
      "第6类中心图像:\n"
     ]
    },
    {
     "data": {
      "image/png": "[encoded data removed]",
      "text/plain": [
       "<Figure size 216x216 with 1 Axes>"
      ]
     },
     "metadata": {
      "needs_background": "light"
     },
     "output_type": "display_data"
    },
    {
     "name": "stdout",
     "output_type": "stream",
     "text": [
      "第7类中心图像:\n"
     ]
    },
    {
     "data": {
      "image/png": "[encoded data removed]",
      "text/plain": [
       "<Figure size 216x216 with 1 Axes>"
      ]
     },
     "metadata": {
      "needs_background": "light"
     },
     "output_type": "display_data"
    },
    {
     "name": "stdout",
     "output_type": "stream",
     "text": [
      "第8类中心图像:\n"
     ]
    },
    {
     "data": {
      "image/png": "[encoded data removed]",
      "text/plain": [
       "<Figure size 216x216 with 1 Axes>"
      ]
     },
     "metadata": {
      "needs_background": "light"
     },
     "output_type": "display_data"
    },
    {
     "name": "stdout",
     "output_type": "stream",
     "text": [
      "第9类中心图像:\n"
     ]
    },
    {
     "data": {
      "image/png": "[encoded data removed]",
      "text/plain": [
       "<Figure size 216x216 with 1 Axes>"
      ]
     },
     "metadata": {
      "needs_background": "light"
     },
     "output_type": "display_data"
    }
   ],
   "source": [
    "for k in range(K):\n",
    "    print('第%d类中心图像:' % k)\n",
    "    img_C = C[k].reshape(28,28)\n",
    "    plt.figure(figsize=(3,3))\n",
    "    plt.imshow(img_C, cmap='gray')\n",
    "    plt.pause(0.1)"
   ]
  },
  {
   "cell_type": "markdown",
   "metadata": {},
   "source": [
    "## 3.2 K-Means - sklearn"
   ]
  },
  {
   "cell_type": "code",
   "execution_count": 692,
   "metadata": {},
   "outputs": [],
   "source": [
    "from sklearn.cluster import KMeans\n",
    "\n",
    "kmeans = KMeans(n_clusters=10, random_state=0).fit(data_sub)"
   ]
  },
  {
   "cell_type": "code",
   "execution_count": 694,
   "metadata": {},
   "outputs": [
    {
     "data": {
      "text/plain": [
       "array([5, 9, 9, ..., 7, 7, 1], dtype=int32)"
      ]
     },
     "execution_count": 694,
     "metadata": {},
     "output_type": "execute_result"
    }
   ],
   "source": [
    "kmeans.labels_"
   ]
  },
  {
   "cell_type": "code",
   "execution_count": 703,
   "metadata": {},
   "outputs": [
    {
     "name": "stdout",
     "output_type": "stream",
     "text": [
      "第0类别样本数: 875\n",
      "第1类别样本数: 834\n",
      "第2类别样本数: 1056\n",
      "第3类别样本数: 1231\n",
      "第4类别样本数: 849\n",
      "第5类别样本数: 1098\n",
      "第6类别样本数: 900\n",
      "第7类别样本数: 1310\n",
      "第8类别样本数: 1103\n",
      "第9类别样本数: 744\n"
     ]
    }
   ],
   "source": [
    "for i in range(10):\n",
    "    print('第{}类别样本数: {}'.format(i, np.sum(kmeans.labels_==i)))"
   ]
  },
  {
   "cell_type": "markdown",
   "metadata": {},
   "source": [
    "# 3. PCA"
   ]
  },
  {
   "cell_type": "markdown",
   "metadata": {},
   "source": [
    "## 3.1 PCA 传统算法"
   ]
  },
  {
   "cell_type": "code",
   "execution_count": 721,
   "metadata": {},
   "outputs": [],
   "source": [
    "def PCA(X, k):\n",
    "    # 按列取均值\n",
    "    X_mean = np.mean(X, axis=0)\n",
    "    X_ = X - X_mean\n",
    "    # 协方差矩阵 rowvar=0 \n",
    "    X_cov = np.cov(X_, rowvar=0)\n",
    "    # 特征值和特征向量\n",
    "    eigVal, eigVec = np.linalg.eig(np.mat(X_cov))\n",
    "    #对特征值从小到大排序\n",
    "    eigValIndex = np.argsort(eigVal)\n",
    "    #最大的k个特征值的下标\n",
    "    k_eigValIndex = eigValIndex[-1:-(k+1):-1]\n",
    "    #最大的n个特征值对应的特征向量\n",
    "    k_eigVec = eigVec[:, k_eigValIndex]\n",
    "    #低维特征空间的数据\n",
    "    X_k = X_ * k_eigVec\n",
    "    #重构数据\n",
    "    reMat = (X_k * k_eigVec.T) + X_mean\n",
    "    return X_k, reMat\n"
   ]
  },
  {
   "cell_type": "code",
   "execution_count": 725,
   "metadata": {},
   "outputs": [],
   "source": [
    "X_k, reMat = PCA(data_sub, 50)"
   ]
  },
  {
   "cell_type": "code",
   "execution_count": 726,
   "metadata": {},
   "outputs": [
    {
     "name": "stdout",
     "output_type": "stream",
     "text": [
      "(10000, 50)\n",
      "(10000, 784)\n"
     ]
    }
   ],
   "source": [
    "print(X_k.shape)\n",
    "print(reMat.shape)"
   ]
  },
  {
   "cell_type": "code",
   "execution_count": 727,
   "metadata": {},
   "outputs": [
    {
     "data": {
      "text/plain": [
       "<matplotlib.image.AxesImage at 0x7f1694405710>"
      ]
     },
     "execution_count": 727,
     "metadata": {},
     "output_type": "execute_result"
    },
    {
     "data": {
      "image/png": "[encoded data removed]",
      "text/plain": [
       "<Figure size 432x288 with 1 Axes>"
      ]
     },
     "metadata": {
      "needs_background": "light"
     },
     "output_type": "display_data"
    }
   ],
   "source": [
    "img = np.abs(reMat[0]).reshape(28,28).astype('int')\n",
    "plt.imshow(img, cmap='gray')"
   ]
  },
  {
   "cell_type": "markdown",
   "metadata": {},
   "source": [
    "## 3.2 PCA 奇异值分解(SVD)算法"
   ]
  },
  {
   "cell_type": "code",
   "execution_count": 896,
   "metadata": {},
   "outputs": [],
   "source": [
    "def PCA_SVD(X, k):\n",
    "    covMat = np.dot(X.T, X)/(M-1)\n",
    "    u, s, v = np.linalg.svd(covMat)\n",
    "    T = np.dot(X, u[:,:k])\n",
    "    return T"
   ]
  },
  {
   "cell_type": "code",
   "execution_count": 899,
   "metadata": {},
   "outputs": [
    {
     "name": "stdout",
     "output_type": "stream",
     "text": [
      "(10000, 50)\n",
      "[[-1329.31948708  -959.99227588  -224.50817685 ...   -28.68170597\n",
      "    -81.19459051   -63.30501967]\n",
      " [-1540.46941127  -987.13012311   339.84759829 ...   -18.18815184\n",
      "     38.00382176   -96.65552521]\n",
      " [-1715.22502278 -1065.26519304    66.9821054  ...  -178.54200098\n",
      "      4.90638137   -48.43169325]\n",
      " ...\n",
      " [ -851.40327334  -426.1562264    -24.18855936 ...   -55.29607366\n",
      "     11.82020514   114.23041455]\n",
      " [-1074.37563658  -746.59868557  -128.69716244 ...  -140.00759267\n",
      "    -30.91472762   104.99387577]\n",
      " [ -630.03165651  -477.30607689  -110.97856827 ...    85.22725814\n",
      "    -48.24014894    33.73669229]]\n"
     ]
    }
   ],
   "source": [
    "T = PCA_SVD(X, 50)\n",
    "print(T.shape)\n",
    "print(T)"
   ]
  },
  {
   "cell_type": "markdown",
   "metadata": {},
   "source": [
    "## 3.3 PCA - sklearn"
   ]
  },
  {
   "cell_type": "code",
   "execution_count": 728,
   "metadata": {
    "scrolled": true
   },
   "outputs": [
    {
     "data": {
      "text/plain": [
       "PCA(copy=True, iterated_power='auto', n_components=50, random_state=None,\n",
       "  svd_solver='auto', tol=0.0, whiten=False)"
      ]
     },
     "execution_count": 728,
     "metadata": {},
     "output_type": "execute_result"
    }
   ],
   "source": [
    "from sklearn.decomposition import PCA\n",
    "\n",
    "pca = PCA(n_components=50)\n",
    "pca.fit(data_sub)"
   ]
  },
  {
   "cell_type": "code",
   "execution_count": 729,
   "metadata": {},
   "outputs": [],
   "source": [
    "data_pca = pca.transform(data_sub)"
   ]
  },
  {
   "cell_type": "code",
   "execution_count": 730,
   "metadata": {
    "scrolled": true
   },
   "outputs": [
    {
     "data": {
      "text/plain": [
       "(10000, 50)"
      ]
     },
     "execution_count": 730,
     "metadata": {},
     "output_type": "execute_result"
    }
   ],
   "source": [
    "data_pca.shape"
   ]
  },
  {
   "cell_type": "code",
   "execution_count": 733,
   "metadata": {},
   "outputs": [
    {
     "data": {
      "text/plain": [
       "array([[-190.54010314,  459.9319017 ,  304.90645843, ...,  -23.70200636,\n",
       "          92.8111602 ,   63.70358041],\n",
       "       [ -18.27880804, -654.43739189,   99.76250137, ...,  225.62510015,\n",
       "        -238.68303954,  140.97987998],\n",
       "       [ 516.74242783, -336.64436086, -147.76317854, ...,   89.95069988,\n",
       "          55.80726722,  -76.03606265],\n",
       "       ...,\n",
       "       [  23.37445859, -315.50668318, -758.9711646 , ...,  166.57956989,\n",
       "        -281.35975586, -149.48653242],\n",
       "       [-327.97222304, -311.49719017, -769.1314679 , ...,  288.16626196,\n",
       "          97.95921343, -100.87810799],\n",
       "       [-740.4646048 ,  -16.40734487,  114.86595541, ...,   80.02984126,\n",
       "         -98.66584748,  123.85997183]])"
      ]
     },
     "execution_count": 733,
     "metadata": {},
     "output_type": "execute_result"
    }
   ],
   "source": [
    "# 降维后数据\n",
    "data_pca"
   ]
  },
  {
   "cell_type": "code",
   "execution_count": 734,
   "metadata": {
    "scrolled": true
   },
   "outputs": [
    {
     "data": {
      "text/plain": [
       "array([58253.86132849, 49583.36186426, 46090.84040784, 42639.39450517,\n",
       "       40871.18001335, 38527.06805146, 33480.46406549, 31865.33639714,\n",
       "       30632.01776809, 28415.08980791, 26918.88186538, 26884.6981031 ,\n",
       "       24323.84369735, 23878.7738796 , 23203.93526359, 22677.09370429,\n",
       "       21143.32243123, 20853.27897319, 20239.92608643, 19905.07452929,\n",
       "       19319.53419022, 18665.29530365, 18123.30929843, 17701.13511086,\n",
       "       17577.42686699, 16981.33332399, 16612.96806322, 16511.67616122,\n",
       "       15910.09204394, 15282.81230599, 15067.5526391 , 14848.89591282,\n",
       "       14362.40974541, 14054.22792841, 13772.52646269, 13631.65610507,\n",
       "       13136.07278111, 12941.06688365, 12821.27133458, 12528.21699841,\n",
       "       12412.56815472, 12293.19728099, 11866.3063275 , 11599.58183068,\n",
       "       11555.53440319, 11340.02821113, 11059.46772604, 11008.08875833,\n",
       "       10802.9282149 , 10476.50514522])"
      ]
     },
     "execution_count": 734,
     "metadata": {},
     "output_type": "execute_result"
    }
   ],
   "source": [
    "# 奇异值\n",
    "pca.singular_values_"
   ]
  }
 ],
 "metadata": {
  "kernelspec": {
   "display_name": "Python 3",
   "language": "python",
   "name": "python3"
  },
  "language_info": {
   "codemirror_mode": {
    "name": "ipython",
    "version": 3
   },
   "file_extension": ".py",
   "mimetype": "text/x-python",
   "name": "python",
   "nbconvert_exporter": "python",
   "pygments_lexer": "ipython3",
   "version": "3.7.3"
  }
 },
 "nbformat": 4,
 "nbformat_minor": 2
}
