{
 "cells": [
  {
   "cell_type": "markdown",
   "metadata": {},
   "source": [
    "# 实验3论文实验复现 (Lab3 Implement)\n",
    "\n",
    "Author: 高鹏昺\n",
    "\n",
    "Email: nbgao@126.com"
   ]
  },
  {
   "cell_type": "code",
   "execution_count": 200,
   "metadata": {},
   "outputs": [],
   "source": [
    "import numpy as np\n",
    "import sklearn\n",
    "import scipy.io as sio\n",
    "from scipy import ndimage\n",
    "import matplotlib.pyplot as plt\n",
    "from sklearn.svm import SVC\n",
    "from skimage import feature as feature\n",
    "from sklearn.model_selection import train_test_split\n",
    "from sklearn.metrics import classification_report\n",
    "import random\n",
    "import time\n",
    "import warnings\n",
    "warnings.filterwarnings('ignore')\n",
    "\n",
    "%matplotlib inline"
   ]
  },
  {
   "cell_type": "code",
   "execution_count": 3,
   "metadata": {},
   "outputs": [
    {
     "data": {
      "text/plain": [
       "{'__header__': b'MATLAB 5.0 MAT-file Platform: posix, Created on: Sun Mar 30 03:19:02 2014',\n",
       " '__version__': '1.0',\n",
       " '__globals__': [],\n",
       " 'mldata_descr_ordering': array([[array(['label'], dtype='<U5'), array(['data'], dtype='<U4')]],\n",
       "       dtype=object),\n",
       " 'data': array([[0, 0, 0, ..., 0, 0, 0],\n",
       "        [0, 0, 0, ..., 0, 0, 0],\n",
       "        [0, 0, 0, ..., 0, 0, 0],\n",
       "        ...,\n",
       "        [0, 0, 0, ..., 0, 0, 0],\n",
       "        [0, 0, 0, ..., 0, 0, 0],\n",
       "        [0, 0, 0, ..., 0, 0, 0]], dtype=uint8),\n",
       " 'label': array([[0., 0., 0., ..., 9., 9., 9.]])}"
      ]
     },
     "execution_count": 3,
     "metadata": {},
     "output_type": "execute_result"
    }
   ],
   "source": [
    "# mnist = fetch_mldata('mnist-original', data_home = './data/') \n",
    "mnist = sio.loadmat('./data/mnist-original.mat')\n",
    "mnist"
   ]
  },
  {
   "cell_type": "code",
   "execution_count": 4,
   "metadata": {
    "scrolled": true
   },
   "outputs": [
    {
     "name": "stdout",
     "output_type": "stream",
     "text": [
      "data shape: (70000, 784)\n",
      "label shape: (70000, 1)\n"
     ]
    }
   ],
   "source": [
    "data, label = mnist['data'].T, mnist['label'].T.astype('int')\n",
    "\n",
    "print('data shape:', data.shape)\n",
    "print('label shape:', label.shape)"
   ]
  },
  {
   "cell_type": "code",
   "execution_count": 5,
   "metadata": {},
   "outputs": [],
   "source": [
    "index_list = range(data.shape[0])\n",
    "random_index = random.sample(index_list, 10000)"
   ]
  },
  {
   "cell_type": "code",
   "execution_count": 6,
   "metadata": {
    "scrolled": false
   },
   "outputs": [
    {
     "name": "stdout",
     "output_type": "stream",
     "text": [
      "(10000, 784)\n",
      "(10000, 1)\n"
     ]
    }
   ],
   "source": [
    "data = data[random_index]\n",
    "label = label[random_index]\n",
    "print(data.shape)\n",
    "print(label.shape)"
   ]
  },
  {
   "cell_type": "code",
   "execution_count": 191,
   "metadata": {},
   "outputs": [
    {
     "name": "stdout",
     "output_type": "stream",
     "text": [
      "data_num: 10000\n",
      "feature_num: 784\n"
     ]
    }
   ],
   "source": [
    "data_num, feature_num = data.shape\n",
    "print('data_num:', data_num)\n",
    "print('feature_num:', feature_num)"
   ]
  },
  {
   "cell_type": "markdown",
   "metadata": {},
   "source": [
    "## Parameters"
   ]
  },
  {
   "cell_type": "code",
   "execution_count": 114,
   "metadata": {},
   "outputs": [],
   "source": [
    "M = 10  # 每个图像随机采样的patch数\n",
    "K = 1600  # 聚类的中心数(特征数)\n",
    "W = 6  # 采样patch的宽度\n",
    "S = 1  # 滑动步长"
   ]
  },
  {
   "cell_type": "markdown",
   "metadata": {},
   "source": [
    "# 1. 特征学习阶段 Feature Learning"
   ]
  },
  {
   "cell_type": "markdown",
   "metadata": {},
   "source": [
    "## 1.1 Sampling"
   ]
  },
  {
   "cell_type": "code",
   "execution_count": 249,
   "metadata": {},
   "outputs": [],
   "source": [
    "# 随机采样切块函数\n",
    "def Sampling(img, w):\n",
    "    x = np.random.randint(28-w+1)\n",
    "    y = np.random.randint(28-w+1)\n",
    "    patch = img[x:x+w, y:y+w]\n",
    "    return patch"
   ]
  },
  {
   "cell_type": "code",
   "execution_count": 271,
   "metadata": {
    "scrolled": true
   },
   "outputs": [
    {
     "name": "stdout",
     "output_type": "stream",
     "text": [
      "Patch Sampling: 0.4s\n"
     ]
    }
   ],
   "source": [
    "patch_list = np.zeros((data_num*M, W, W))\n",
    "k = 0\n",
    "time_start = time.time()\n",
    "# 对所有训练图像进行分块取样\n",
    "for i in range(data_num):\n",
    "    # 每张图像取样M次\n",
    "    for j in range(M):\n",
    "        # 分块采样,patch大小为w*w\n",
    "        img = data[i].reshape(28,28)\n",
    "        patch = Sampling(img, W)\n",
    "        patch_list[k] = patch\n",
    "        k += 1\n",
    "           \n",
    "time_end = time.time()\n",
    "print('Patch Sampling time: {:.1f}s'.format(time_end-time_start))"
   ]
  },
  {
   "cell_type": "code",
   "execution_count": 318,
   "metadata": {},
   "outputs": [
    {
     "data": {
      "image/png": "[encoded data removed]",
      "text/plain": [
       "<Figure size 864x864 with 100 Axes>"
      ]
     },
     "metadata": {},
     "output_type": "display_data"
    }
   ],
   "source": [
    "# 随机选取100个patch图显示\n",
    "patch_num = patch_list.shape[0]\n",
    "patch_index = random.sample(range(patch_num), 100)\n",
    "plt.figure(figsize=(12,12))\n",
    "k = 0\n",
    "for i in range(1,11):\n",
    "    for j in range(1,11):\n",
    "        ax = plt.subplot(10,10,k+1)\n",
    "        plt.imshow(patch_list[k], cmap='gray')\n",
    "        ax.set_xticks([])\n",
    "        ax.set_yticks([])\n",
    "        k += 1\n",
    "        \n",
    "plt.tight_layout()"
   ]
  },
  {
   "cell_type": "markdown",
   "metadata": {},
   "source": [
    "## 1.2 Pre-processing"
   ]
  },
  {
   "cell_type": "markdown",
   "metadata": {},
   "source": [
    "### 1.2.1 Normalization (Standardization)\n",
    "#### 采用的是z-score标准化"
   ]
  },
  {
   "cell_type": "code",
   "execution_count": 335,
   "metadata": {},
   "outputs": [],
   "source": [
    "def Standardization(X):\n",
    "    u = X.mean()\n",
    "    s = X.std()\n",
    "    return (X-u)/(s+1e-6)"
   ]
  },
  {
   "cell_type": "code",
   "execution_count": 336,
   "metadata": {
    "scrolled": true
   },
   "outputs": [
    {
     "name": "stdout",
     "output_type": "stream",
     "text": [
      "Normalization time: 2.5s\n"
     ]
    }
   ],
   "source": [
    "time_start = time.time()\n",
    "patch_ss = patch_list.copy()\n",
    "for i in range(patch_num):\n",
    "    patch_ss[i] = Standardization(patch_ss[i])\n",
    "    \n",
    "time_end = time.time()\n",
    "print('Normalization time: {:.1f}s'.format(time_end-time_start))"
   ]
  },
  {
   "cell_type": "code",
   "execution_count": 337,
   "metadata": {},
   "outputs": [
    {
     "data": {
      "text/plain": [
       "array([[-0.41808417,  0.45483882,  0.9326493 ,  0.9326493 ,  0.9326493 ,\n",
       "         0.78563069],\n",
       "       [ 0.80400801,  0.94183796,  0.9326493 ,  0.9326493 ,  0.9326493 ,\n",
       "        -0.30782021],\n",
       "       [ 0.94183796,  0.95102662,  0.94183796,  0.94183796, -1.21749785,\n",
       "        -1.39208245],\n",
       "       [-0.07810364,  0.94183796,  0.84076267, -0.76725336, -1.36451646,\n",
       "        -1.39208245],\n",
       "       [ 0.49159347,  0.94183796, -0.15161294, -1.39208245, -1.39208245,\n",
       "        -1.39208245],\n",
       "       [ 0.9326493 ,  0.1608016 , -1.22668651, -1.39208245, -1.39208245,\n",
       "        -1.39208245]])"
      ]
     },
     "execution_count": 337,
     "metadata": {},
     "output_type": "execute_result"
    }
   ],
   "source": [
    "patch_ss[1000]"
   ]
  },
  {
   "cell_type": "markdown",
   "metadata": {},
   "source": [
    "### 1.2.2 PCA Whitening"
   ]
  },
  {
   "cell_type": "code",
   "execution_count": 338,
   "metadata": {},
   "outputs": [],
   "source": [
    "def PCA_whitening(X):\n",
    "    # 减去均值，使得以0为中心\n",
    "    X -= np.mean(X)\n",
    "    # 计算协方差矩阵\n",
    "    cov = np.dot(X.T, X) / X.shape[0]\n",
    "    # 协方差矩阵奇异值分解SVD\n",
    "    U,S,V = np.linalg.svd(cov)\n",
    "    X_rot = np.dot(X, U) \n",
    "    X_white = X_rot / np.sqrt(S + 1e-6)\n",
    "    return X"
   ]
  },
  {
   "cell_type": "code",
   "execution_count": 339,
   "metadata": {},
   "outputs": [
    {
     "name": "stdout",
     "output_type": "stream",
     "text": [
      "PCA-Whitening time: 4.4s\n"
     ]
    }
   ],
   "source": [
    "time_start = time.time()\n",
    "patch_wh = patch_ss.copy()\n",
    "for i in range(patch_num):\n",
    "    patch_wh[i] = PCA_whitening(patch_wh[i])\n",
    "    \n",
    "time_end = time.time()\n",
    "print('PCA-Whitening time: {:.1f}s'.format(time_end-time_start))"
   ]
  },
  {
   "cell_type": "code",
   "execution_count": 340,
   "metadata": {
    "scrolled": false
   },
   "outputs": [
    {
     "data": {
      "text/plain": [
       "array([[-0.41808417,  0.45483882,  0.9326493 ,  0.9326493 ,  0.9326493 ,\n",
       "         0.78563069],\n",
       "       [ 0.80400801,  0.94183796,  0.9326493 ,  0.9326493 ,  0.9326493 ,\n",
       "        -0.30782021],\n",
       "       [ 0.94183796,  0.95102662,  0.94183796,  0.94183796, -1.21749785,\n",
       "        -1.39208245],\n",
       "       [-0.07810364,  0.94183796,  0.84076267, -0.76725336, -1.36451646,\n",
       "        -1.39208245],\n",
       "       [ 0.49159347,  0.94183796, -0.15161294, -1.39208245, -1.39208245,\n",
       "        -1.39208245],\n",
       "       [ 0.9326493 ,  0.1608016 , -1.22668651, -1.39208245, -1.39208245,\n",
       "        -1.39208245]])"
      ]
     },
     "execution_count": 340,
     "metadata": {},
     "output_type": "execute_result"
    }
   ],
   "source": [
    "patch_wh[1000]"
   ]
  },
  {
   "cell_type": "markdown",
   "metadata": {},
   "source": [
    "#### ZCA-Whitening"
   ]
  },
  {
   "cell_type": "code",
   "execution_count": 1,
   "metadata": {},
   "outputs": [],
   "source": [
    "def zca_whitening(inputs):\n",
    "    sigma = np.dot(inputs, inputs.T)/inputs.shape[1] #inputs是经过归一化处理的，所以这边就相当于计算协方差矩阵\n",
    "    U,S,V = np.linalg.svd(sigma) #奇异分解\n",
    "    epsilon = 0.1                #白化的时候，防止除数为0\n",
    "    ZCAMatrix = np.dot(np.dot(U, np.diag(1.0/np.sqrt(np.diag(S) + epsilon))), U.T)                     #计算zca白化矩阵\n",
    "    return np.dot(ZCAMatrix, inputs)   #白化变换"
   ]
  },
  {
   "cell_type": "markdown",
   "metadata": {},
   "source": [
    "## 1.3 Unsupervised Learning - K-Means"
   ]
  },
  {
   "cell_type": "code",
   "execution_count": 349,
   "metadata": {},
   "outputs": [
    {
     "name": "stdout",
     "output_type": "stream",
     "text": [
      "K-Means time: 1037.8s\n"
     ]
    }
   ],
   "source": [
    "from sklearn.cluster import KMeans\n",
    "\n",
    "time_start = time.time()\n",
    "# 将patch_wh的最后一维展平\n",
    "patch_wh_flatten = patch_wh.reshape(patch_num, -1)\n",
    "# K = 1600\n",
    "kmeans = KMeans(n_clusters=K, random_state=0)\n",
    "kmeans.fit(patch_wh_flatten)\n",
    "\n",
    "time_end = time.time()\n",
    "print('K-Means time: {:.1f}s'.format(time_end-time_start))"
   ]
  },
  {
   "cell_type": "code",
   "execution_count": 356,
   "metadata": {},
   "outputs": [
    {
     "data": {
      "text/plain": [
       "(1600, 36)"
      ]
     },
     "execution_count": 356,
     "metadata": {},
     "output_type": "execute_result"
    }
   ],
   "source": [
    "# 无监督学习到的K个中心\n",
    "C = kmeans.cluster_centers_\n",
    "C.shape"
   ]
  },
  {
   "cell_type": "markdown",
   "metadata": {},
   "source": [
    "### Visualization\n",
    "### 可视化学习到的中心(centroids)"
   ]
  },
  {
   "cell_type": "code",
   "execution_count": 367,
   "metadata": {},
   "outputs": [
    {
     "data": {
      "image/png": "[encoded data removed]",
      "text/plain": [
       "<Figure size 864x864 with 100 Axes>"
      ]
     },
     "metadata": {},
     "output_type": "display_data"
    }
   ],
   "source": [
    "# 随机选取100个中心特征图显示\n",
    "centroid_index = random.sample(range(K), 100)\n",
    "plt.figure(figsize=(12,12))\n",
    "k = 0\n",
    "for i in range(1,11):\n",
    "    for j in range(1,11):\n",
    "        ax = plt.subplot(10,10,k+1)\n",
    "        img = C[k].reshape(6,6)\n",
    "        plt.imshow(img, cmap='gray')\n",
    "        ax.set_xticks([])\n",
    "        ax.set_yticks([])\n",
    "        k += 1\n",
    "        \n",
    "plt.tight_layout()"
   ]
  },
  {
   "cell_type": "markdown",
   "metadata": {},
   "source": [
    "# 2. Feature Extraction "
   ]
  },
  {
   "cell_type": "markdown",
   "metadata": {},
   "source": [
    "## 2.1 Convolutional Extraction\n"
   ]
  },
  {
   "cell_type": "code",
   "execution_count": 368,
   "metadata": {},
   "outputs": [],
   "source": [
    "def dist(x, c):\n",
    "    return np.sum(np.square(x-c))"
   ]
  },
  {
   "cell_type": "code",
   "execution_count": 452,
   "metadata": {},
   "outputs": [
    {
     "data": {
      "text/plain": [
       "array([], shape=(10000, 0), dtype=float64)"
      ]
     },
     "execution_count": 452,
     "metadata": {},
     "output_type": "execute_result"
    }
   ],
   "source": [
    "feature"
   ]
  },
  {
   "cell_type": "code",
   "execution_count": 467,
   "metadata": {
    "scrolled": true
   },
   "outputs": [
    {
     "data": {
      "text/plain": [
       "(10000, 6400)"
      ]
     },
     "execution_count": 467,
     "metadata": {},
     "output_type": "execute_result"
    }
   ],
   "source": [
    "feature = np.zeros((data_num,4*K))\n",
    "feature.shape"
   ]
  },
  {
   "cell_type": "code",
   "execution_count": 468,
   "metadata": {
    "scrolled": true
   },
   "outputs": [
    {
     "data": {
      "text/plain": [
       "(2, 2, 1600)"
      ]
     },
     "execution_count": 468,
     "metadata": {},
     "output_type": "execute_result"
    }
   ],
   "source": [
    "b = np.zeros((2,2,1600))\n",
    "b.shape"
   ]
  },
  {
   "cell_type": "code",
   "execution_count": 471,
   "metadata": {},
   "outputs": [],
   "source": [
    "d = b.reshape(4*K)\n",
    "feature[0] = d"
   ]
  },
  {
   "cell_type": "code",
   "execution_count": 475,
   "metadata": {},
   "outputs": [
    {
     "data": {
      "text/plain": [
       "(6400,)"
      ]
     },
     "execution_count": 475,
     "metadata": {},
     "output_type": "execute_result"
    }
   ],
   "source": [
    "feature[0].shape"
   ]
  },
  {
   "cell_type": "code",
   "execution_count": null,
   "metadata": {},
   "outputs": [],
   "source": [
    "time_start = time.time()\n",
    "\n",
    "# 扫描后窗口大小\n",
    "sn = 28-W+1\n",
    "\n",
    "feature = np.zeros((data_num,4*K))\n",
    "for i in range(data_num):\n",
    "    img = data[i].reshape(28,28)\n",
    "    # 23 * 23 * 1600\n",
    "    y = np.zeros((sn, sn, K))\n",
    "    # 感受野滑动\n",
    "    for sx in range(sn):\n",
    "        for sy in range(sn):\n",
    "            patch = img[sx:sx+W, sy:sy+W]\n",
    "            D = np.zeros(K)\n",
    "            for k in range(K):\n",
    "                patch_flatten = patch.reshape(W*W)\n",
    "                D[k] = dist(patch_flatten, C[k])\n",
    "            min_c = np.argmin(D)\n",
    "            # 最接近的中心类下标置1\n",
    "            y[sx][sy][min_c] = 1\n",
    "            \n",
    "    # 4象限池化 23*23 -> 2*2\n",
    "    for k in range(K):\n",
    "        f[i][0][0][k] = np.mean(y[:sn//2][:sn//2])\n",
    "        f[i][0][1][k] = np.mean(y[:sn//2][sn//2:])\n",
    "        f[i][1][0][k] = np.mean(y[sn//2:][:sn//2])\n",
    "        f[i][1][1][k] = np.mean(y[sn//2:][sn//2:])\n",
    "    \n",
    "    # 最后一维拼接\n",
    "    feature[i] = f[i].reshape(4*K)\n",
    "    if i%500 == 0:\n",
    "        print('Step: ', i)\n",
    "\n",
    "time_end = time.time()\n",
    "print('Feature Extraction time: {:.1f}s'.format(time_end-time_start))"
   ]
  },
  {
   "cell_type": "code",
   "execution_count": 406,
   "metadata": {},
   "outputs": [
    {
     "data": {
      "text/plain": [
       "(10000, 6400)"
      ]
     },
     "execution_count": 406,
     "metadata": {},
     "output_type": "execute_result"
    }
   ],
   "source": [
    "feature.shape"
   ]
  },
  {
   "cell_type": "code",
   "execution_count": null,
   "metadata": {},
   "outputs": [],
   "source": []
  },
  {
   "cell_type": "markdown",
   "metadata": {},
   "source": [
    "# 3. Classification\n",
    "使用LinearSVM L2作为分类器模型进行训练和预测"
   ]
  },
  {
   "cell_type": "markdown",
   "metadata": {},
   "source": [
    "### Split Dataset"
   ]
  },
  {
   "cell_type": "code",
   "execution_count": null,
   "metadata": {},
   "outputs": [],
   "source": [
    "feature_train, feature_test, label_train, label_test = train_test_split(feature, label, test_size=1/5, random_state=33)\n",
    "print('feature_train.shape:', feature_train.shape)\n",
    "print('feature_test.shape:', feature_test.shape)"
   ]
  },
  {
   "cell_type": "markdown",
   "metadata": {},
   "source": [
    "### Train"
   ]
  },
  {
   "cell_type": "code",
   "execution_count": 341,
   "metadata": {},
   "outputs": [],
   "source": [
    "from sklearn.svm import LinearSVC\n",
    "# svc = SVC()\n",
    "svc_l2 = LinearSVC(penalty='l2')\n",
    "svc_l2.fit(feature_train, label_train)"
   ]
  },
  {
   "cell_type": "markdown",
   "metadata": {},
   "source": [
    "### Test"
   ]
  },
  {
   "cell_type": "code",
   "execution_count": null,
   "metadata": {},
   "outputs": [],
   "source": [
    "label_predict = svc_l2.predict(label_test)"
   ]
  },
  {
   "cell_type": "code",
   "execution_count": null,
   "metadata": {},
   "outputs": [],
   "source": [
    "# Result Evaluation\n",
    "print('The Accuracy of Naive Bayes:', svc_l2.score(feature_test, label_test))\n",
    "print(classification_report(label_test, label_predict))"
   ]
  }
 ],
 "metadata": {
  "kernelspec": {
   "display_name": "Python 3",
   "language": "python",
   "name": "python3"
  },
  "language_info": {
   "codemirror_mode": {
    "name": "ipython",
    "version": 3
   },
   "file_extension": ".py",
   "mimetype": "text/x-python",
   "name": "python",
   "nbconvert_exporter": "python",
   "pygments_lexer": "ipython3",
   "version": "3.7.0"
  }
 },
 "nbformat": 4,
 "nbformat_minor": 2
}
